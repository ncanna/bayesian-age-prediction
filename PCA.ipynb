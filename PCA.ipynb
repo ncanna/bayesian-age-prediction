{
  "nbformat": 4,
  "nbformat_minor": 0,
  "metadata": {
    "colab": {
      "name": "PCA.ipynb",
      "provenance": []
    },
    "kernelspec": {
      "name": "python3",
      "display_name": "Python 3"
    },
    "language_info": {
      "name": "python"
    }
  },
  "cells": [
    {
      "cell_type": "code",
      "metadata": {
        "colab": {
          "base_uri": "https://localhost:8080/"
        },
        "id": "ovUghPH5_-M3",
        "outputId": "c078142a-54e0-4771-de33-a7bb4e8165af"
      },
      "source": [
        "import pandas as pd\n",
        "import numpy as np\n",
        "from random import random\n",
        "import itertools\n",
        "import os\n",
        "\n",
        "import matplotlib as mpl\n",
        "import matplotlib.pyplot as plt\n",
        "import matplotlib.patches as mpatches\n",
        "from matplotlib.patches import Ellipse\n",
        "import matplotlib.transforms as transforms\n",
        "from IPython.display import Image\n",
        "from PIL import Image\n",
        "import seaborn as sns\n",
        "\n",
        "!pip install scikit-learn-extra\n",
        "import sklearn\n",
        "import scipy\n",
        "from sklearn_extra.cluster import KMedoids\n",
        "from sklearn.datasets import make_blobs\n",
        "\n",
        "from sklearn.decomposition import PCA"
      ],
      "execution_count": null,
      "outputs": [
        {
          "output_type": "stream",
          "name": "stdout",
          "text": [
            "Collecting scikit-learn-extra\n",
            "  Downloading scikit_learn_extra-0.2.0-cp37-cp37m-manylinux2010_x86_64.whl (1.7 MB)\n",
            "\u001b[K     |████████████████████████████████| 1.7 MB 5.1 MB/s \n",
            "\u001b[?25hRequirement already satisfied: scikit-learn>=0.23.0 in /usr/local/lib/python3.7/dist-packages (from scikit-learn-extra) (1.0.1)\n",
            "Requirement already satisfied: scipy>=0.19.1 in /usr/local/lib/python3.7/dist-packages (from scikit-learn-extra) (1.4.1)\n",
            "Requirement already satisfied: numpy>=1.13.3 in /usr/local/lib/python3.7/dist-packages (from scikit-learn-extra) (1.19.5)\n",
            "Requirement already satisfied: threadpoolctl>=2.0.0 in /usr/local/lib/python3.7/dist-packages (from scikit-learn>=0.23.0->scikit-learn-extra) (3.0.0)\n",
            "Requirement already satisfied: joblib>=0.11 in /usr/local/lib/python3.7/dist-packages (from scikit-learn>=0.23.0->scikit-learn-extra) (1.1.0)\n",
            "Installing collected packages: scikit-learn-extra\n",
            "Successfully installed scikit-learn-extra-0.2.0\n"
          ]
        }
      ]
    },
    {
      "cell_type": "code",
      "metadata": {
        "colab": {
          "base_uri": "https://localhost:8080/"
        },
        "id": "3y4mESAM_yNt",
        "outputId": "f9ab86d6-c8d7-4136-c89c-b72b9c36ad6e"
      },
      "source": [
        "from google.colab import files, drive\n",
        "from google.colab import drive\n",
        "drive.mount('/content/drive')"
      ],
      "execution_count": null,
      "outputs": [
        {
          "output_type": "stream",
          "name": "stdout",
          "text": [
            "Mounted at /content/drive\n"
          ]
        }
      ]
    },
    {
      "cell_type": "code",
      "metadata": {
        "id": "WQ9JNnl5AXBH"
      },
      "source": [
        "root_folder = \"drive/MyDrive/Bayesian Learning Final Project/Submission/NN_model\""
      ],
      "execution_count": null,
      "outputs": []
    },
    {
      "cell_type": "code",
      "metadata": {
        "id": "9l4Uy3exAZAp"
      },
      "source": [
        "tnKeys_file = os.path.join(root_folder, 'tnKeys.npy')\n",
        "tnKeys = np.load(tnKeys_file)\n",
        "\n",
        "train_file = os.path.join(root_folder, 'train_latent.npy')\n",
        "train = np.load(train_file)\n",
        "\n",
        "val_file = os.path.join(root_folder, 'val.npy')\n",
        "val = np.load(val_file)\n",
        "\n",
        "valKeys_file = os.path.join(root_folder, 'validation_latent.npy')\n",
        "valKeys = np.load(valKeys_file)"
      ],
      "execution_count": null,
      "outputs": []
    },
    {
      "cell_type": "code",
      "metadata": {
        "colab": {
          "base_uri": "https://localhost:8080/"
        },
        "id": "9R9D4YI6AmbD",
        "outputId": "1b292e0f-7439-4317-ccf4-f6630bab2417"
      },
      "source": [
        "print('Train IDs')\n",
        "print(tnKeys.shape)\n",
        "\n",
        "print('Train')\n",
        "print(train.shape)\n",
        "\n",
        "print('Validation')\n",
        "print(val.shape)\n",
        "\n",
        "print('Validation IDs')\n",
        "print(valKeys.shape)"
      ],
      "execution_count": null,
      "outputs": [
        {
          "output_type": "stream",
          "name": "stdout",
          "text": [
            "Train IDs\n",
            "(509,)\n",
            "Train\n",
            "(509, 138240)\n",
            "Validation\n",
            "(57, 138240)\n",
            "Validation IDs\n",
            "(57, 138240)\n"
          ]
        }
      ]
    },
    {
      "cell_type": "code",
      "metadata": {
        "colab": {
          "base_uri": "https://localhost:8080/",
          "height": 70
        },
        "id": "Ymxzy2vIA0hO",
        "outputId": "b81a25c3-45ad-4934-ce7e-c2bcae37656d"
      },
      "source": [
        "train_df = pd.DataFrame(train)\n",
        "val_df = pd.DataFrame(val)\n",
        "#train_df[\"Key\"] = tnKeys\n",
        "\n",
        "print(f\"Length: {len(train_df)}\")\n",
        "print(f\"Shape: {train_df.shape}\")\n",
        "\n",
        "'''mid = train_df['Key']\n",
        "train_df.drop(labels=['Key'], axis=1,inplace = True)\n",
        "train_df.insert(0, 'Key', mid)'''"
      ],
      "execution_count": null,
      "outputs": [
        {
          "output_type": "stream",
          "name": "stdout",
          "text": [
            "Length: 509\n",
            "Shape: (509, 138240)\n"
          ]
        },
        {
          "output_type": "execute_result",
          "data": {
            "application/vnd.google.colaboratory.intrinsic+json": {
              "type": "string"
            },
            "text/plain": [
              "\"mid = train_df['Key']\\ntrain_df.drop(labels=['Key'], axis=1,inplace = True)\\ntrain_df.insert(0, 'Key', mid)\""
            ]
          },
          "metadata": {},
          "execution_count": 7
        }
      ]
    },
    {
      "cell_type": "code",
      "metadata": {
        "colab": {
          "base_uri": "https://localhost:8080/",
          "height": 255
        },
        "id": "mIaQOEOcCaEt",
        "outputId": "13010e11-aa93-41d5-b842-1bc61e762cd5"
      },
      "source": [
        "train_df.head()"
      ],
      "execution_count": null,
      "outputs": [
        {
          "output_type": "execute_result",
          "data": {
            "text/html": [
              "<div>\n",
              "<style scoped>\n",
              "    .dataframe tbody tr th:only-of-type {\n",
              "        vertical-align: middle;\n",
              "    }\n",
              "\n",
              "    .dataframe tbody tr th {\n",
              "        vertical-align: top;\n",
              "    }\n",
              "\n",
              "    .dataframe thead th {\n",
              "        text-align: right;\n",
              "    }\n",
              "</style>\n",
              "<table border=\"1\" class=\"dataframe\">\n",
              "  <thead>\n",
              "    <tr style=\"text-align: right;\">\n",
              "      <th></th>\n",
              "      <th>0</th>\n",
              "      <th>1</th>\n",
              "      <th>2</th>\n",
              "      <th>3</th>\n",
              "      <th>4</th>\n",
              "      <th>5</th>\n",
              "      <th>6</th>\n",
              "      <th>7</th>\n",
              "      <th>8</th>\n",
              "      <th>9</th>\n",
              "      <th>10</th>\n",
              "      <th>11</th>\n",
              "      <th>12</th>\n",
              "      <th>13</th>\n",
              "      <th>14</th>\n",
              "      <th>15</th>\n",
              "      <th>16</th>\n",
              "      <th>17</th>\n",
              "      <th>18</th>\n",
              "      <th>19</th>\n",
              "      <th>20</th>\n",
              "      <th>21</th>\n",
              "      <th>22</th>\n",
              "      <th>23</th>\n",
              "      <th>24</th>\n",
              "      <th>25</th>\n",
              "      <th>26</th>\n",
              "      <th>27</th>\n",
              "      <th>28</th>\n",
              "      <th>29</th>\n",
              "      <th>30</th>\n",
              "      <th>31</th>\n",
              "      <th>32</th>\n",
              "      <th>33</th>\n",
              "      <th>34</th>\n",
              "      <th>35</th>\n",
              "      <th>36</th>\n",
              "      <th>37</th>\n",
              "      <th>38</th>\n",
              "      <th>39</th>\n",
              "      <th>...</th>\n",
              "      <th>138200</th>\n",
              "      <th>138201</th>\n",
              "      <th>138202</th>\n",
              "      <th>138203</th>\n",
              "      <th>138204</th>\n",
              "      <th>138205</th>\n",
              "      <th>138206</th>\n",
              "      <th>138207</th>\n",
              "      <th>138208</th>\n",
              "      <th>138209</th>\n",
              "      <th>138210</th>\n",
              "      <th>138211</th>\n",
              "      <th>138212</th>\n",
              "      <th>138213</th>\n",
              "      <th>138214</th>\n",
              "      <th>138215</th>\n",
              "      <th>138216</th>\n",
              "      <th>138217</th>\n",
              "      <th>138218</th>\n",
              "      <th>138219</th>\n",
              "      <th>138220</th>\n",
              "      <th>138221</th>\n",
              "      <th>138222</th>\n",
              "      <th>138223</th>\n",
              "      <th>138224</th>\n",
              "      <th>138225</th>\n",
              "      <th>138226</th>\n",
              "      <th>138227</th>\n",
              "      <th>138228</th>\n",
              "      <th>138229</th>\n",
              "      <th>138230</th>\n",
              "      <th>138231</th>\n",
              "      <th>138232</th>\n",
              "      <th>138233</th>\n",
              "      <th>138234</th>\n",
              "      <th>138235</th>\n",
              "      <th>138236</th>\n",
              "      <th>138237</th>\n",
              "      <th>138238</th>\n",
              "      <th>138239</th>\n",
              "    </tr>\n",
              "  </thead>\n",
              "  <tbody>\n",
              "    <tr>\n",
              "      <th>0</th>\n",
              "      <td>0.479572</td>\n",
              "      <td>0.020502</td>\n",
              "      <td>0.227588</td>\n",
              "      <td>0.233665</td>\n",
              "      <td>0.209937</td>\n",
              "      <td>0.189135</td>\n",
              "      <td>0.175982</td>\n",
              "      <td>0.211822</td>\n",
              "      <td>0.262780</td>\n",
              "      <td>0.337841</td>\n",
              "      <td>0.459153</td>\n",
              "      <td>0.047065</td>\n",
              "      <td>0.851376</td>\n",
              "      <td>0.679855</td>\n",
              "      <td>1.037770</td>\n",
              "      <td>1.026960</td>\n",
              "      <td>0.945221</td>\n",
              "      <td>0.902704</td>\n",
              "      <td>0.811492</td>\n",
              "      <td>0.763333</td>\n",
              "      <td>0.836264</td>\n",
              "      <td>0.915967</td>\n",
              "      <td>0.949401</td>\n",
              "      <td>0.463098</td>\n",
              "      <td>0.983980</td>\n",
              "      <td>0.956292</td>\n",
              "      <td>1.326848</td>\n",
              "      <td>1.256851</td>\n",
              "      <td>1.023268</td>\n",
              "      <td>0.850523</td>\n",
              "      <td>0.679355</td>\n",
              "      <td>0.533199</td>\n",
              "      <td>0.501340</td>\n",
              "      <td>0.739408</td>\n",
              "      <td>0.706417</td>\n",
              "      <td>0.227733</td>\n",
              "      <td>0.765313</td>\n",
              "      <td>0.888612</td>\n",
              "      <td>1.372221</td>\n",
              "      <td>1.255106</td>\n",
              "      <td>...</td>\n",
              "      <td>0.872905</td>\n",
              "      <td>0.863914</td>\n",
              "      <td>1.043014</td>\n",
              "      <td>0.338488</td>\n",
              "      <td>0.767403</td>\n",
              "      <td>1.151122</td>\n",
              "      <td>0.753866</td>\n",
              "      <td>0.397277</td>\n",
              "      <td>0.187621</td>\n",
              "      <td>0.087706</td>\n",
              "      <td>0.036233</td>\n",
              "      <td>0.150626</td>\n",
              "      <td>0.268437</td>\n",
              "      <td>0.313517</td>\n",
              "      <td>0.606103</td>\n",
              "      <td>0.083838</td>\n",
              "      <td>0.318505</td>\n",
              "      <td>0.535995</td>\n",
              "      <td>0.610755</td>\n",
              "      <td>0.601483</td>\n",
              "      <td>0.387929</td>\n",
              "      <td>0.310327</td>\n",
              "      <td>0.300560</td>\n",
              "      <td>0.314797</td>\n",
              "      <td>0.369898</td>\n",
              "      <td>0.314128</td>\n",
              "      <td>0.557209</td>\n",
              "      <td>0.320433</td>\n",
              "      <td>0.290223</td>\n",
              "      <td>0.299811</td>\n",
              "      <td>0.471521</td>\n",
              "      <td>0.510544</td>\n",
              "      <td>0.445792</td>\n",
              "      <td>0.405584</td>\n",
              "      <td>0.438062</td>\n",
              "      <td>0.532271</td>\n",
              "      <td>0.573741</td>\n",
              "      <td>0.613486</td>\n",
              "      <td>0.694184</td>\n",
              "      <td>0.307075</td>\n",
              "    </tr>\n",
              "    <tr>\n",
              "      <th>1</th>\n",
              "      <td>0.389346</td>\n",
              "      <td>0.056842</td>\n",
              "      <td>0.342170</td>\n",
              "      <td>0.311345</td>\n",
              "      <td>0.278588</td>\n",
              "      <td>0.253726</td>\n",
              "      <td>0.288382</td>\n",
              "      <td>0.259693</td>\n",
              "      <td>0.248936</td>\n",
              "      <td>0.338910</td>\n",
              "      <td>0.526289</td>\n",
              "      <td>0.124506</td>\n",
              "      <td>0.614801</td>\n",
              "      <td>0.477758</td>\n",
              "      <td>0.842289</td>\n",
              "      <td>0.815957</td>\n",
              "      <td>0.661402</td>\n",
              "      <td>0.630667</td>\n",
              "      <td>0.644171</td>\n",
              "      <td>0.601367</td>\n",
              "      <td>0.667042</td>\n",
              "      <td>0.825403</td>\n",
              "      <td>0.953925</td>\n",
              "      <td>0.534807</td>\n",
              "      <td>0.706832</td>\n",
              "      <td>0.555433</td>\n",
              "      <td>0.886536</td>\n",
              "      <td>0.970838</td>\n",
              "      <td>0.929479</td>\n",
              "      <td>0.792222</td>\n",
              "      <td>0.611599</td>\n",
              "      <td>0.403902</td>\n",
              "      <td>0.372781</td>\n",
              "      <td>0.646741</td>\n",
              "      <td>0.815937</td>\n",
              "      <td>0.332232</td>\n",
              "      <td>0.473888</td>\n",
              "      <td>0.196202</td>\n",
              "      <td>0.568514</td>\n",
              "      <td>1.068162</td>\n",
              "      <td>...</td>\n",
              "      <td>0.756447</td>\n",
              "      <td>0.801632</td>\n",
              "      <td>1.203387</td>\n",
              "      <td>0.504075</td>\n",
              "      <td>0.871228</td>\n",
              "      <td>1.199426</td>\n",
              "      <td>0.816244</td>\n",
              "      <td>0.617699</td>\n",
              "      <td>0.336604</td>\n",
              "      <td>0.267765</td>\n",
              "      <td>0.024710</td>\n",
              "      <td>0.004442</td>\n",
              "      <td>0.312672</td>\n",
              "      <td>0.385630</td>\n",
              "      <td>0.812684</td>\n",
              "      <td>0.268768</td>\n",
              "      <td>0.486628</td>\n",
              "      <td>0.771067</td>\n",
              "      <td>0.345122</td>\n",
              "      <td>0.284067</td>\n",
              "      <td>0.124287</td>\n",
              "      <td>0.175689</td>\n",
              "      <td>0.141442</td>\n",
              "      <td>0.113551</td>\n",
              "      <td>0.465926</td>\n",
              "      <td>0.682469</td>\n",
              "      <td>0.918945</td>\n",
              "      <td>0.584561</td>\n",
              "      <td>0.363092</td>\n",
              "      <td>0.396619</td>\n",
              "      <td>0.481020</td>\n",
              "      <td>0.655560</td>\n",
              "      <td>0.552857</td>\n",
              "      <td>0.423115</td>\n",
              "      <td>0.279637</td>\n",
              "      <td>0.235999</td>\n",
              "      <td>0.419582</td>\n",
              "      <td>0.445121</td>\n",
              "      <td>0.575579</td>\n",
              "      <td>0.315256</td>\n",
              "    </tr>\n",
              "    <tr>\n",
              "      <th>2</th>\n",
              "      <td>0.482814</td>\n",
              "      <td>0.069144</td>\n",
              "      <td>0.238318</td>\n",
              "      <td>0.217776</td>\n",
              "      <td>0.171827</td>\n",
              "      <td>0.153894</td>\n",
              "      <td>0.174569</td>\n",
              "      <td>0.234000</td>\n",
              "      <td>0.302400</td>\n",
              "      <td>0.350436</td>\n",
              "      <td>0.467577</td>\n",
              "      <td>0.059864</td>\n",
              "      <td>0.812443</td>\n",
              "      <td>0.654340</td>\n",
              "      <td>0.848751</td>\n",
              "      <td>0.795505</td>\n",
              "      <td>0.739376</td>\n",
              "      <td>0.730686</td>\n",
              "      <td>0.698231</td>\n",
              "      <td>0.652233</td>\n",
              "      <td>0.691892</td>\n",
              "      <td>0.793208</td>\n",
              "      <td>0.927180</td>\n",
              "      <td>0.423665</td>\n",
              "      <td>0.948542</td>\n",
              "      <td>0.879352</td>\n",
              "      <td>0.996707</td>\n",
              "      <td>0.924974</td>\n",
              "      <td>0.935344</td>\n",
              "      <td>1.009308</td>\n",
              "      <td>0.900664</td>\n",
              "      <td>0.701607</td>\n",
              "      <td>0.523265</td>\n",
              "      <td>0.558378</td>\n",
              "      <td>0.659481</td>\n",
              "      <td>0.172193</td>\n",
              "      <td>0.793426</td>\n",
              "      <td>0.708346</td>\n",
              "      <td>0.892663</td>\n",
              "      <td>0.984907</td>\n",
              "      <td>...</td>\n",
              "      <td>0.425135</td>\n",
              "      <td>0.632562</td>\n",
              "      <td>1.004011</td>\n",
              "      <td>0.384603</td>\n",
              "      <td>0.912581</td>\n",
              "      <td>1.318445</td>\n",
              "      <td>0.837177</td>\n",
              "      <td>0.605622</td>\n",
              "      <td>0.418801</td>\n",
              "      <td>0.430175</td>\n",
              "      <td>0.228843</td>\n",
              "      <td>0.094296</td>\n",
              "      <td>0.063457</td>\n",
              "      <td>0.136903</td>\n",
              "      <td>0.610024</td>\n",
              "      <td>0.137818</td>\n",
              "      <td>0.417700</td>\n",
              "      <td>0.669028</td>\n",
              "      <td>0.176881</td>\n",
              "      <td>0.320563</td>\n",
              "      <td>0.528540</td>\n",
              "      <td>0.279440</td>\n",
              "      <td>0.093289</td>\n",
              "      <td>0.138676</td>\n",
              "      <td>0.089401</td>\n",
              "      <td>0.180025</td>\n",
              "      <td>0.500619</td>\n",
              "      <td>0.276889</td>\n",
              "      <td>0.186523</td>\n",
              "      <td>0.238067</td>\n",
              "      <td>0.269047</td>\n",
              "      <td>0.456837</td>\n",
              "      <td>0.579457</td>\n",
              "      <td>0.299600</td>\n",
              "      <td>0.121137</td>\n",
              "      <td>0.172558</td>\n",
              "      <td>0.347124</td>\n",
              "      <td>0.559293</td>\n",
              "      <td>0.671677</td>\n",
              "      <td>0.309169</td>\n",
              "    </tr>\n",
              "    <tr>\n",
              "      <th>3</th>\n",
              "      <td>0.534822</td>\n",
              "      <td>0.063191</td>\n",
              "      <td>0.211134</td>\n",
              "      <td>0.203253</td>\n",
              "      <td>0.206279</td>\n",
              "      <td>0.262930</td>\n",
              "      <td>0.320436</td>\n",
              "      <td>0.371258</td>\n",
              "      <td>0.391641</td>\n",
              "      <td>0.385956</td>\n",
              "      <td>0.466733</td>\n",
              "      <td>0.054033</td>\n",
              "      <td>0.809208</td>\n",
              "      <td>0.589355</td>\n",
              "      <td>0.834007</td>\n",
              "      <td>0.857162</td>\n",
              "      <td>0.760300</td>\n",
              "      <td>0.716288</td>\n",
              "      <td>0.755693</td>\n",
              "      <td>0.794457</td>\n",
              "      <td>0.851906</td>\n",
              "      <td>0.882584</td>\n",
              "      <td>0.927589</td>\n",
              "      <td>0.436191</td>\n",
              "      <td>0.849872</td>\n",
              "      <td>0.601427</td>\n",
              "      <td>0.809393</td>\n",
              "      <td>0.817519</td>\n",
              "      <td>0.661612</td>\n",
              "      <td>0.483427</td>\n",
              "      <td>0.448602</td>\n",
              "      <td>0.443283</td>\n",
              "      <td>0.472700</td>\n",
              "      <td>0.685580</td>\n",
              "      <td>0.729138</td>\n",
              "      <td>0.187647</td>\n",
              "      <td>0.705928</td>\n",
              "      <td>0.562524</td>\n",
              "      <td>0.895927</td>\n",
              "      <td>0.946063</td>\n",
              "      <td>...</td>\n",
              "      <td>0.553031</td>\n",
              "      <td>0.578955</td>\n",
              "      <td>1.059381</td>\n",
              "      <td>0.423475</td>\n",
              "      <td>0.578589</td>\n",
              "      <td>0.525031</td>\n",
              "      <td>0.186294</td>\n",
              "      <td>0.079763</td>\n",
              "      <td>0.019723</td>\n",
              "      <td>0.026811</td>\n",
              "      <td>0.027604</td>\n",
              "      <td>0.007714</td>\n",
              "      <td>0.182692</td>\n",
              "      <td>0.177573</td>\n",
              "      <td>0.684758</td>\n",
              "      <td>0.168461</td>\n",
              "      <td>0.657937</td>\n",
              "      <td>0.842086</td>\n",
              "      <td>0.313143</td>\n",
              "      <td>0.177922</td>\n",
              "      <td>0.232865</td>\n",
              "      <td>0.597405</td>\n",
              "      <td>0.423549</td>\n",
              "      <td>0.185477</td>\n",
              "      <td>0.301344</td>\n",
              "      <td>0.371291</td>\n",
              "      <td>0.639522</td>\n",
              "      <td>0.333849</td>\n",
              "      <td>0.425584</td>\n",
              "      <td>0.538513</td>\n",
              "      <td>0.702210</td>\n",
              "      <td>0.548519</td>\n",
              "      <td>0.280856</td>\n",
              "      <td>0.304251</td>\n",
              "      <td>0.323448</td>\n",
              "      <td>0.343141</td>\n",
              "      <td>0.598312</td>\n",
              "      <td>0.646284</td>\n",
              "      <td>0.711238</td>\n",
              "      <td>0.329006</td>\n",
              "    </tr>\n",
              "    <tr>\n",
              "      <th>4</th>\n",
              "      <td>0.585813</td>\n",
              "      <td>0.162631</td>\n",
              "      <td>0.123107</td>\n",
              "      <td>0.269265</td>\n",
              "      <td>0.401109</td>\n",
              "      <td>0.365222</td>\n",
              "      <td>0.298209</td>\n",
              "      <td>0.257116</td>\n",
              "      <td>0.212342</td>\n",
              "      <td>0.226126</td>\n",
              "      <td>0.736588</td>\n",
              "      <td>0.204863</td>\n",
              "      <td>0.807921</td>\n",
              "      <td>0.527532</td>\n",
              "      <td>0.554130</td>\n",
              "      <td>0.729394</td>\n",
              "      <td>0.986638</td>\n",
              "      <td>0.943381</td>\n",
              "      <td>0.774045</td>\n",
              "      <td>0.723403</td>\n",
              "      <td>0.713736</td>\n",
              "      <td>0.634241</td>\n",
              "      <td>1.254252</td>\n",
              "      <td>0.619817</td>\n",
              "      <td>0.666005</td>\n",
              "      <td>0.700810</td>\n",
              "      <td>0.839388</td>\n",
              "      <td>1.045846</td>\n",
              "      <td>1.204123</td>\n",
              "      <td>1.093493</td>\n",
              "      <td>0.785853</td>\n",
              "      <td>0.483304</td>\n",
              "      <td>0.438529</td>\n",
              "      <td>0.546058</td>\n",
              "      <td>1.220069</td>\n",
              "      <td>0.515819</td>\n",
              "      <td>0.826728</td>\n",
              "      <td>0.929723</td>\n",
              "      <td>0.562703</td>\n",
              "      <td>0.899419</td>\n",
              "      <td>...</td>\n",
              "      <td>0.885810</td>\n",
              "      <td>0.965770</td>\n",
              "      <td>0.879932</td>\n",
              "      <td>0.184361</td>\n",
              "      <td>0.616475</td>\n",
              "      <td>0.708142</td>\n",
              "      <td>0.549536</td>\n",
              "      <td>0.749922</td>\n",
              "      <td>0.597513</td>\n",
              "      <td>0.481483</td>\n",
              "      <td>0.667211</td>\n",
              "      <td>0.621043</td>\n",
              "      <td>0.423304</td>\n",
              "      <td>0.854146</td>\n",
              "      <td>0.897016</td>\n",
              "      <td>0.080416</td>\n",
              "      <td>0.474330</td>\n",
              "      <td>0.486267</td>\n",
              "      <td>0.425502</td>\n",
              "      <td>0.567846</td>\n",
              "      <td>0.641461</td>\n",
              "      <td>0.606550</td>\n",
              "      <td>0.683879</td>\n",
              "      <td>0.724943</td>\n",
              "      <td>0.481142</td>\n",
              "      <td>0.936368</td>\n",
              "      <td>0.862225</td>\n",
              "      <td>0.150666</td>\n",
              "      <td>0.515965</td>\n",
              "      <td>0.556495</td>\n",
              "      <td>0.680974</td>\n",
              "      <td>0.728031</td>\n",
              "      <td>0.648983</td>\n",
              "      <td>0.465397</td>\n",
              "      <td>0.305356</td>\n",
              "      <td>0.463413</td>\n",
              "      <td>0.511678</td>\n",
              "      <td>1.031379</td>\n",
              "      <td>1.207770</td>\n",
              "      <td>0.515332</td>\n",
              "    </tr>\n",
              "  </tbody>\n",
              "</table>\n",
              "<p>5 rows × 138240 columns</p>\n",
              "</div>"
            ],
            "text/plain": [
              "     0         1         2       ...    138237    138238    138239\n",
              "0  0.479572  0.020502  0.227588  ...  0.613486  0.694184  0.307075\n",
              "1  0.389346  0.056842  0.342170  ...  0.445121  0.575579  0.315256\n",
              "2  0.482814  0.069144  0.238318  ...  0.559293  0.671677  0.309169\n",
              "3  0.534822  0.063191  0.211134  ...  0.646284  0.711238  0.329006\n",
              "4  0.585813  0.162631  0.123107  ...  1.031379  1.207770  0.515332\n",
              "\n",
              "[5 rows x 138240 columns]"
            ]
          },
          "metadata": {},
          "execution_count": 8
        }
      ]
    },
    {
      "cell_type": "markdown",
      "metadata": {
        "id": "8xpGVDj6FVsO"
      },
      "source": [
        "# KMedioid Clustering (Unnormalized)"
      ]
    },
    {
      "cell_type": "code",
      "metadata": {
        "id": "tz3UPleHC-YO"
      },
      "source": [
        "# Goal is to find 100 clusters that have uncorrelated features (low correlation metric)\n",
        "cobj = KMedoids(n_clusters=100, metric='euclidean').fit(train_df)\n",
        "labels = cobj.labels_"
      ],
      "execution_count": null,
      "outputs": []
    },
    {
      "cell_type": "code",
      "metadata": {
        "id": "qAYKjza_Davs"
      },
      "source": [
        "unique_labels = set(labels)"
      ],
      "execution_count": null,
      "outputs": []
    },
    {
      "cell_type": "code",
      "metadata": {
        "colab": {
          "base_uri": "https://localhost:8080/",
          "height": 298
        },
        "id": "Drrj9GW3DNt3",
        "outputId": "de0c97fb-e531-480e-d7ef-00466811b317"
      },
      "source": [
        "colors = [\n",
        "    plt.cm.Spectral(each) for each in np.linspace(0, 1, len(unique_labels))\n",
        "]\n",
        "\n",
        "plt.plot(\n",
        "    cobj.cluster_centers_[:, 0],\n",
        "    cobj.cluster_centers_[:, 1],\n",
        "    \"o\",\n",
        "    markerfacecolor=\"cyan\",\n",
        "    markeredgecolor=\"k\",\n",
        "    markersize=6,\n",
        ")\n",
        "\n",
        "plt.title(\"KMedoids clustering. Medoids are represented in cyan.\")"
      ],
      "execution_count": null,
      "outputs": [
        {
          "output_type": "execute_result",
          "data": {
            "text/plain": [
              "Text(0.5, 1.0, 'KMedoids clustering. Medoids are represented in cyan.')"
            ]
          },
          "metadata": {},
          "execution_count": 11
        },
        {
          "output_type": "display_data",
          "data": {
            "image/png": "[encoded data removed]",
            "text/plain": [
              "<Figure size 432x288 with 1 Axes>"
            ]
          },
          "metadata": {
            "needs_background": "light"
          }
        }
      ]
    },
    {
      "cell_type": "code",
      "metadata": {
        "colab": {
          "base_uri": "https://localhost:8080/"
        },
        "id": "9dmilzdeDn3k",
        "outputId": "6b70a623-81e4-4289-af42-e1eb7c11ac35"
      },
      "source": [
        "cobj"
      ],
      "execution_count": null,
      "outputs": [
        {
          "output_type": "execute_result",
          "data": {
            "text/plain": [
              "KMedoids(n_clusters=100)"
            ]
          },
          "metadata": {},
          "execution_count": 12
        }
      ]
    },
    {
      "cell_type": "code",
      "metadata": {
        "colab": {
          "base_uri": "https://localhost:8080/"
        },
        "id": "5495n-LkEq_g",
        "outputId": "261e0db0-fcc1-427e-b066-0168e624b513"
      },
      "source": [
        "cobj.cluster_centers_[0]"
      ],
      "execution_count": null,
      "outputs": [
        {
          "output_type": "execute_result",
          "data": {
            "text/plain": [
              "array([0.43755794, 0.01955701, 0.097271  , ..., 0.52588105, 0.65619749,\n",
              "       0.30646586])"
            ]
          },
          "metadata": {},
          "execution_count": 13
        }
      ]
    },
    {
      "cell_type": "code",
      "metadata": {
        "colab": {
          "base_uri": "https://localhost:8080/"
        },
        "id": "z94Sn9pAD9LD",
        "outputId": "1c07a52e-14be-429e-a78c-ce55c1e4e183"
      },
      "source": [
        "cobj.cluster_centers_[0].shape"
      ],
      "execution_count": null,
      "outputs": [
        {
          "output_type": "execute_result",
          "data": {
            "text/plain": [
              "(138240,)"
            ]
          },
          "metadata": {},
          "execution_count": 14
        }
      ]
    },
    {
      "cell_type": "code",
      "metadata": {
        "colab": {
          "base_uri": "https://localhost:8080/"
        },
        "id": "k9B_L9GhEbxU",
        "outputId": "63bc86b9-18ea-48dd-d95b-c30328044e31"
      },
      "source": [
        "np.count_nonzero(cobj.cluster_centers_[0])"
      ],
      "execution_count": null,
      "outputs": [
        {
          "output_type": "execute_result",
          "data": {
            "text/plain": [
              "138240"
            ]
          },
          "metadata": {},
          "execution_count": 15
        }
      ]
    },
    {
      "cell_type": "markdown",
      "metadata": {
        "id": "LgTUyhZfg7Iu"
      },
      "source": [
        "# KMedioid Clustering (Normalized)"
      ]
    },
    {
      "cell_type": "code",
      "source": [
        "df = train_df\n",
        "df_normalized=(df - df.mean()) / df.std()"
      ],
      "metadata": {
        "id": "wxLHtczuhAbO"
      },
      "execution_count": null,
      "outputs": []
    },
    {
      "cell_type": "code",
      "metadata": {
        "id": "m7LY6wBxg7I3"
      },
      "source": [
        "# Goal is to find 100 clusters that have uncorrelated features (low correlation metric)\n",
        "cobj = KMedoids(n_clusters=100, metric='euclidean').fit(df_normalized)\n",
        "labels = cobj.labels_"
      ],
      "execution_count": null,
      "outputs": []
    },
    {
      "cell_type": "code",
      "metadata": {
        "id": "B3XoInZ2g7I3"
      },
      "source": [
        "unique_labels = set(labels)"
      ],
      "execution_count": null,
      "outputs": []
    },
    {
      "cell_type": "code",
      "metadata": {
        "colab": {
          "base_uri": "https://localhost:8080/"
        },
        "outputId": "9741b611-618a-4742-d78a-7ffb812dfddf",
        "id": "oaWI6Gw4g7I3"
      },
      "source": [
        "colors = [\n",
        "    plt.cm.Spectral(each) for each in np.linspace(0, 1, len(unique_labels))\n",
        "]\n",
        "\n",
        "plt.plot(\n",
        "    cobj.cluster_centers_[:, 0],\n",
        "    cobj.cluster_centers_[:, 1],\n",
        "    \"o\",\n",
        "    markerfacecolor=\"cyan\",\n",
        "    markeredgecolor=\"k\",\n",
        "    markersize=6,\n",
        ")\n",
        "\n",
        "plt.title(\"KMedoids clustering. Medoids are represented in cyan.\")"
      ],
      "execution_count": null,
      "outputs": [
        {
          "output_type": "execute_result",
          "data": {
            "text/plain": [
              "Text(0.5, 1.0, 'KMedoids clustering. Medoids are represented in cyan.')"
            ]
          },
          "metadata": {},
          "execution_count": 19
        },
        {
          "output_type": "display_data",
          "data": {
            "image/png": "[encoded data removed]",
            "text/plain": [
              "<Figure size 432x288 with 1 Axes>"
            ]
          },
          "metadata": {
            "needs_background": "light"
          }
        }
      ]
    },
    {
      "cell_type": "code",
      "metadata": {
        "colab": {
          "base_uri": "https://localhost:8080/"
        },
        "outputId": "b63d7ce6-03ac-4eb2-9611-66124731a4e6",
        "id": "4vcCxBgIg7I3"
      },
      "source": [
        "cobj"
      ],
      "execution_count": null,
      "outputs": [
        {
          "output_type": "execute_result",
          "data": {
            "text/plain": [
              "KMedoids(n_clusters=100)"
            ]
          },
          "metadata": {},
          "execution_count": 20
        }
      ]
    },
    {
      "cell_type": "code",
      "metadata": {
        "colab": {
          "base_uri": "https://localhost:8080/"
        },
        "outputId": "b6dc9f5e-bf7b-4eab-c354-9b924ba01f2b",
        "id": "jMxT56Yzg7I4"
      },
      "source": [
        "cobj.cluster_centers_[0]"
      ],
      "execution_count": null,
      "outputs": [
        {
          "output_type": "execute_result",
          "data": {
            "text/plain": [
              "array([0.26167518, 0.38258654, 0.00169942, ..., 0.9429341 , 1.34925885,\n",
              "       1.58357845])"
            ]
          },
          "metadata": {},
          "execution_count": 21
        }
      ]
    },
    {
      "cell_type": "code",
      "metadata": {
        "colab": {
          "base_uri": "https://localhost:8080/"
        },
        "outputId": "4f9cd493-ead6-4a0f-d74a-5f0f29fc3e9f",
        "id": "0tuxPhhog7I4"
      },
      "source": [
        "cobj.cluster_centers_[0].shape"
      ],
      "execution_count": null,
      "outputs": [
        {
          "output_type": "execute_result",
          "data": {
            "text/plain": [
              "(138240,)"
            ]
          },
          "metadata": {},
          "execution_count": 22
        }
      ]
    },
    {
      "cell_type": "code",
      "metadata": {
        "colab": {
          "base_uri": "https://localhost:8080/"
        },
        "outputId": "aaa760fa-b8f6-439f-a4a7-be433b4ec9b3",
        "id": "ijFOSTzLg7I4"
      },
      "source": [
        "np.count_nonzero(cobj.cluster_centers_[0])"
      ],
      "execution_count": null,
      "outputs": [
        {
          "output_type": "execute_result",
          "data": {
            "text/plain": [
              "138240"
            ]
          },
          "metadata": {},
          "execution_count": 23
        }
      ]
    },
    {
      "cell_type": "markdown",
      "metadata": {
        "id": "SHpWjBH6oBna"
      },
      "source": [
        "# KMedioid Clustering (k Iterations)"
      ]
    },
    {
      "cell_type": "code",
      "source": [
        "inertias = []\n",
        "range_list = range(1, 500, 25)\n",
        "\n",
        "# Creating models while varying the number of clusters (k)\n",
        "for k in range_list:\n",
        "    # Fit model to samples\n",
        "    model = KMedoids(n_clusters=k, metric='euclidean').fit(train_df)\n",
        "  \n",
        "    # Append the inertia to the list of inertias\n",
        "    inertias.append(model.inertia_)"
      ],
      "metadata": {
        "id": "m57gHhCko5Dn"
      },
      "execution_count": null,
      "outputs": []
    },
    {
      "cell_type": "code",
      "source": [
        "plt.plot(range_list, inertias, '-p', color='gold')\n",
        "plt.xlabel('number of clusters, k')\n",
        "plt.ylabel('inertia')\n",
        "plt.show()"
      ],
      "metadata": {
        "colab": {
          "base_uri": "https://localhost:8080/",
          "height": 279
        },
        "id": "oF_4hz4_rDIw",
        "outputId": "1cc88622-61c0-4a81-f983-7b32e372bd7f"
      },
      "execution_count": null,
      "outputs": [
        {
          "output_type": "display_data",
          "data": {
            "image/png": "[encoded data removed]",
            "text/plain": [
              "<Figure size 432x288 with 1 Axes>"
            ]
          },
          "metadata": {
            "needs_background": "light"
          }
        }
      ]
    },
    {
      "cell_type": "markdown",
      "metadata": {
        "id": "GZlJfWHQE9Zd"
      },
      "source": [
        "# PCA"
      ]
    },
    {
      "cell_type": "code",
      "metadata": {
        "colab": {
          "base_uri": "https://localhost:8080/"
        },
        "id": "_9LhTYrKGBSC",
        "outputId": "8c942810-9ed9-4a34-9a18-19aa23323151"
      },
      "source": [
        "# You must normalize the data before applying the fit method\n",
        "df = train_df\n",
        "df_normalized=(df - df.mean()) / df.std()\n",
        "pca = PCA(n_components=100)\n",
        "pca.fit(df_normalized)"
      ],
      "execution_count": null,
      "outputs": [
        {
          "output_type": "execute_result",
          "data": {
            "text/plain": [
              "PCA(n_components=100)"
            ]
          },
          "metadata": {},
          "execution_count": 31
        }
      ]
    },
    {
      "cell_type": "code",
      "metadata": {
        "colab": {
          "base_uri": "https://localhost:8080/"
        },
        "id": "Hb4ws4e3GDAF",
        "outputId": "c688df46-7646-4a13-9f77-61a2c9beeada"
      },
      "source": [
        "model.components_.T.shape"
      ],
      "execution_count": null,
      "outputs": [
        {
          "output_type": "execute_result",
          "data": {
            "text/plain": [
              "(138240, 100)"
            ]
          },
          "metadata": {},
          "execution_count": 32
        }
      ]
    },
    {
      "cell_type": "code",
      "metadata": {
        "id": "IOuIwnbJE9p9"
      },
      "source": [
        "# Reformat and view results\n",
        "loadings = pd.DataFrame(model.components_)"
      ],
      "execution_count": null,
      "outputs": []
    },
    {
      "cell_type": "code",
      "metadata": {
        "colab": {
          "base_uri": "https://localhost:8080/"
        },
        "id": "GH9He61iGKsT",
        "outputId": "f56c458f-eaaf-403f-f4c5-b241af9c5332"
      },
      "source": [
        "loadings[0].values"
      ],
      "execution_count": null,
      "outputs": [
        {
          "output_type": "execute_result",
          "data": {
            "text/plain": [
              "array([ 2.70150907e-04, -4.60145381e-04,  4.84766573e-03, -2.23061143e-04,\n",
              "        1.31337821e-03,  1.65107569e-03,  1.82841487e-03,  1.36708677e-03,\n",
              "       -3.46206299e-03, -4.59477538e-03, -1.14167536e-04, -1.00641557e-04,\n",
              "        1.76612287e-03, -3.09292091e-03,  1.65481247e-03,  1.21759624e-03,\n",
              "       -1.66371354e-03,  1.14076389e-03, -1.50755850e-03, -2.19626525e-03,\n",
              "       -8.35846260e-03, -2.63336154e-03, -5.59674832e-03, -1.02537636e-03,\n",
              "        3.51520919e-04, -3.14973623e-03,  2.90936446e-03,  2.22910287e-03,\n",
              "       -1.83642395e-03,  6.43749210e-04, -5.56248478e-03,  2.99788337e-03,\n",
              "        5.32687280e-03, -2.39851645e-04, -2.09309594e-03,  5.59786639e-03,\n",
              "       -2.03547977e-03, -4.61475277e-03,  2.68678556e-03,  1.99488598e-03,\n",
              "       -3.38231019e-03, -4.30810225e-04, -3.77828766e-04, -6.10107480e-03,\n",
              "        3.88100973e-03,  7.80976752e-04,  2.06842799e-03,  2.90955909e-03,\n",
              "        4.26326859e-04, -1.40425952e-03, -3.55021059e-03, -6.86815190e-04,\n",
              "        8.13537562e-03, -3.55064662e-03, -5.29152957e-03,  8.84493861e-04,\n",
              "        1.21632111e-04,  8.73328291e-04, -1.07590125e-04,  4.88076234e-03,\n",
              "       -2.79035980e-03,  2.73165040e-03,  5.43113925e-03, -2.50410026e-03,\n",
              "       -9.29973625e-04,  2.98799892e-03, -6.05230226e-04, -1.87378474e-03,\n",
              "        1.13958380e-03,  2.37819012e-03,  5.62502570e-04, -3.35249564e-03,\n",
              "       -1.58018712e-03, -1.49195062e-03, -4.54473116e-03,  2.79848785e-03,\n",
              "        7.07575519e-04,  2.16440471e-03, -3.34647365e-03, -9.05629764e-05,\n",
              "        1.29651405e-03,  1.69402105e-03,  3.18398468e-03, -2.96719830e-04,\n",
              "        2.60234259e-03,  1.08625836e-02,  1.39848862e-03,  8.57377503e-04,\n",
              "       -4.60987264e-03,  2.40810967e-03, -4.97233541e-04, -5.01981013e-04,\n",
              "       -4.84003645e-03,  4.53306469e-03,  4.94828860e-03,  1.89454330e-03,\n",
              "       -1.36973732e-03, -5.99040258e-04, -1.67330368e-03,  2.66333718e-03])"
            ]
          },
          "metadata": {},
          "execution_count": 45
        }
      ]
    },
    {
      "cell_type": "code",
      "metadata": {
        "id": "NheAj4ZYYTdm",
        "outputId": "898aa519-2608-4d66-a495-811ef0508764",
        "colab": {
          "base_uri": "https://localhost:8080/",
          "height": 279
        }
      },
      "source": [
        "plt.plot(pca.explained_variance_ratio_)\n",
        "plt.ylabel('Explained Variance')\n",
        "plt.xlabel('Components')\n",
        "plt.show()"
      ],
      "execution_count": null,
      "outputs": [
        {
          "output_type": "display_data",
          "data": {
            "image/png": "[encoded data removed]",
            "text/plain": [
              "<Figure size 432x288 with 1 Axes>"
            ]
          },
          "metadata": {
            "needs_background": "light"
          }
        }
      ]
    },
    {
      "cell_type": "code",
      "metadata": {
        "colab": {
          "base_uri": "https://localhost:8080/",
          "height": 279
        },
        "id": "x7TxkkE7GF1o",
        "outputId": "f3e08733-5de5-49a5-d43e-a6d1ef1d185d"
      },
      "source": [
        "plt.plot(pca.explained_variance_ratio_[:22])\n",
        "plt.ylabel('Explained Variance')\n",
        "plt.xlabel('Components')\n",
        "plt.show()"
      ],
      "execution_count": null,
      "outputs": [
        {
          "output_type": "display_data",
          "data": {
            "image/png": "[encoded data removed]",
            "text/plain": [
              "<Figure size 432x288 with 1 Axes>"
            ]
          },
          "metadata": {
            "needs_background": "light"
          }
        }
      ]
    },
    {
      "cell_type": "code",
      "source": [
        "dir(pca)"
      ],
      "metadata": {
        "colab": {
          "base_uri": "https://localhost:8080/"
        },
        "id": "ooeB2CGubxW8",
        "outputId": "9a9c443a-6840-4dd4-9eeb-ad5834d4ba04"
      },
      "execution_count": null,
      "outputs": [
        {
          "output_type": "execute_result",
          "data": {
            "text/plain": [
              "['__abstractmethods__',\n",
              " '__class__',\n",
              " '__delattr__',\n",
              " '__dict__',\n",
              " '__dir__',\n",
              " '__doc__',\n",
              " '__eq__',\n",
              " '__format__',\n",
              " '__ge__',\n",
              " '__getattribute__',\n",
              " '__getstate__',\n",
              " '__gt__',\n",
              " '__hash__',\n",
              " '__init__',\n",
              " '__init_subclass__',\n",
              " '__le__',\n",
              " '__lt__',\n",
              " '__module__',\n",
              " '__ne__',\n",
              " '__new__',\n",
              " '__reduce__',\n",
              " '__reduce_ex__',\n",
              " '__repr__',\n",
              " '__setattr__',\n",
              " '__setstate__',\n",
              " '__sizeof__',\n",
              " '__str__',\n",
              " '__subclasshook__',\n",
              " '__weakref__',\n",
              " '_abc_impl',\n",
              " '_check_feature_names',\n",
              " '_check_n_features',\n",
              " '_fit',\n",
              " '_fit_full',\n",
              " '_fit_svd_solver',\n",
              " '_fit_truncated',\n",
              " '_get_param_names',\n",
              " '_get_tags',\n",
              " '_more_tags',\n",
              " '_repr_html_',\n",
              " '_repr_html_inner',\n",
              " '_repr_mimebundle_',\n",
              " '_validate_data',\n",
              " 'components_',\n",
              " 'copy',\n",
              " 'explained_variance_',\n",
              " 'explained_variance_ratio_',\n",
              " 'fit',\n",
              " 'fit_transform',\n",
              " 'get_covariance',\n",
              " 'get_params',\n",
              " 'get_precision',\n",
              " 'inverse_transform',\n",
              " 'iterated_power',\n",
              " 'mean_',\n",
              " 'n_components',\n",
              " 'n_components_',\n",
              " 'n_features_',\n",
              " 'n_features_in_',\n",
              " 'n_samples_',\n",
              " 'noise_variance_',\n",
              " 'random_state',\n",
              " 'score',\n",
              " 'score_samples',\n",
              " 'set_params',\n",
              " 'singular_values_',\n",
              " 'svd_solver',\n",
              " 'tol',\n",
              " 'transform',\n",
              " 'whiten']"
            ]
          },
          "metadata": {},
          "execution_count": 55
        }
      ]
    },
    {
      "cell_type": "code",
      "source": [
        ""
      ],
      "metadata": {
        "id": "ES6HKXswcJEU"
      },
      "execution_count": null,
      "outputs": []
    },
    {
      "cell_type": "code",
      "source": [
        "pca.explained_variance_ratio_"
      ],
      "metadata": {
        "colab": {
          "base_uri": "https://localhost:8080/"
        },
        "id": "BR1jTSNgbv3L",
        "outputId": "a8a9476e-71ea-4318-8af0-c99d67be3f7f"
      },
      "execution_count": null,
      "outputs": [
        {
          "output_type": "execute_result",
          "data": {
            "text/plain": [
              "array([0.04907274, 0.04564347, 0.03885826, 0.03290027, 0.02951984,\n",
              "       0.02859149, 0.02634495, 0.0233947 , 0.02091442, 0.01909605,\n",
              "       0.01797914, 0.01638861, 0.01521421, 0.01340691, 0.0117892 ,\n",
              "       0.00740644, 0.00714544, 0.00658123, 0.00633893, 0.00607057,\n",
              "       0.00606903, 0.00570672, 0.00539795, 0.00524256, 0.00508379,\n",
              "       0.00499105, 0.00475556, 0.00468762, 0.00455567, 0.00442837,\n",
              "       0.00433032, 0.00425743, 0.00416364, 0.004014  , 0.00389051,\n",
              "       0.00377349, 0.00366511, 0.00361361, 0.00353117, 0.00346134,\n",
              "       0.00338647, 0.00335529, 0.00331187, 0.00328805, 0.00319744,\n",
              "       0.00310551, 0.00304078, 0.00301012, 0.00293659, 0.00286893,\n",
              "       0.00283364, 0.00281741, 0.00276998, 0.00270783, 0.00267849,\n",
              "       0.00263467, 0.0025935 , 0.00255829, 0.00254889, 0.00248317,\n",
              "       0.00247033, 0.00244292, 0.00241714, 0.00234897, 0.00233127,\n",
              "       0.00232329, 0.00228879, 0.00222425, 0.00221281, 0.00217923,\n",
              "       0.00215549, 0.00214872, 0.00212017, 0.00208622, 0.00207258,\n",
              "       0.00203749, 0.00202492, 0.00201596, 0.00201013, 0.00197062,\n",
              "       0.00196583, 0.00194596, 0.00191492, 0.00191236, 0.00190676,\n",
              "       0.00187518, 0.00182873, 0.00180949, 0.00178977, 0.00176283,\n",
              "       0.00175518, 0.00174706, 0.00171866, 0.00171082, 0.00169961,\n",
              "       0.00167656, 0.00165082, 0.00164815, 0.00160815, 0.00159023])"
            ]
          },
          "metadata": {},
          "execution_count": 59
        }
      ]
    },
    {
      "cell_type": "code",
      "metadata": {
        "colab": {
          "base_uri": "https://localhost:8080/",
          "height": 443
        },
        "id": "MFJ1LY90GcN3",
        "outputId": "cf2ed7a5-0ffd-411d-f729-7aed0d4adb1f"
      },
      "source": [
        "pd.DataFrame(pca.components_,columns=train_df.columns)"
      ],
      "execution_count": null,
      "outputs": [
        {
          "output_type": "execute_result",
          "data": {
            "text/html": [
              "<div>\n",
              "<style scoped>\n",
              "    .dataframe tbody tr th:only-of-type {\n",
              "        vertical-align: middle;\n",
              "    }\n",
              "\n",
              "    .dataframe tbody tr th {\n",
              "        vertical-align: top;\n",
              "    }\n",
              "\n",
              "    .dataframe thead th {\n",
              "        text-align: right;\n",
              "    }\n",
              "</style>\n",
              "<table border=\"1\" class=\"dataframe\">\n",
              "  <thead>\n",
              "    <tr style=\"text-align: right;\">\n",
              "      <th></th>\n",
              "      <th>0</th>\n",
              "      <th>1</th>\n",
              "      <th>2</th>\n",
              "      <th>3</th>\n",
              "      <th>4</th>\n",
              "      <th>5</th>\n",
              "      <th>6</th>\n",
              "      <th>7</th>\n",
              "      <th>8</th>\n",
              "      <th>9</th>\n",
              "      <th>10</th>\n",
              "      <th>11</th>\n",
              "      <th>12</th>\n",
              "      <th>13</th>\n",
              "      <th>14</th>\n",
              "      <th>15</th>\n",
              "      <th>16</th>\n",
              "      <th>17</th>\n",
              "      <th>18</th>\n",
              "      <th>19</th>\n",
              "      <th>20</th>\n",
              "      <th>21</th>\n",
              "      <th>22</th>\n",
              "      <th>23</th>\n",
              "      <th>24</th>\n",
              "      <th>25</th>\n",
              "      <th>26</th>\n",
              "      <th>27</th>\n",
              "      <th>28</th>\n",
              "      <th>29</th>\n",
              "      <th>30</th>\n",
              "      <th>31</th>\n",
              "      <th>32</th>\n",
              "      <th>33</th>\n",
              "      <th>34</th>\n",
              "      <th>35</th>\n",
              "      <th>36</th>\n",
              "      <th>37</th>\n",
              "      <th>38</th>\n",
              "      <th>39</th>\n",
              "      <th>...</th>\n",
              "      <th>138200</th>\n",
              "      <th>138201</th>\n",
              "      <th>138202</th>\n",
              "      <th>138203</th>\n",
              "      <th>138204</th>\n",
              "      <th>138205</th>\n",
              "      <th>138206</th>\n",
              "      <th>138207</th>\n",
              "      <th>138208</th>\n",
              "      <th>138209</th>\n",
              "      <th>138210</th>\n",
              "      <th>138211</th>\n",
              "      <th>138212</th>\n",
              "      <th>138213</th>\n",
              "      <th>138214</th>\n",
              "      <th>138215</th>\n",
              "      <th>138216</th>\n",
              "      <th>138217</th>\n",
              "      <th>138218</th>\n",
              "      <th>138219</th>\n",
              "      <th>138220</th>\n",
              "      <th>138221</th>\n",
              "      <th>138222</th>\n",
              "      <th>138223</th>\n",
              "      <th>138224</th>\n",
              "      <th>138225</th>\n",
              "      <th>138226</th>\n",
              "      <th>138227</th>\n",
              "      <th>138228</th>\n",
              "      <th>138229</th>\n",
              "      <th>138230</th>\n",
              "      <th>138231</th>\n",
              "      <th>138232</th>\n",
              "      <th>138233</th>\n",
              "      <th>138234</th>\n",
              "      <th>138235</th>\n",
              "      <th>138236</th>\n",
              "      <th>138237</th>\n",
              "      <th>138238</th>\n",
              "      <th>138239</th>\n",
              "    </tr>\n",
              "  </thead>\n",
              "  <tbody>\n",
              "    <tr>\n",
              "      <th>0</th>\n",
              "      <td>0.000270</td>\n",
              "      <td>0.001648</td>\n",
              "      <td>-0.000178</td>\n",
              "      <td>-0.000697</td>\n",
              "      <td>-0.001743</td>\n",
              "      <td>-0.002524</td>\n",
              "      <td>-0.002706</td>\n",
              "      <td>-0.003067</td>\n",
              "      <td>-0.003072</td>\n",
              "      <td>-0.003295</td>\n",
              "      <td>-0.000881</td>\n",
              "      <td>-0.000780</td>\n",
              "      <td>-0.000627</td>\n",
              "      <td>-0.000757</td>\n",
              "      <td>-0.000862</td>\n",
              "      <td>-0.001283</td>\n",
              "      <td>-0.001455</td>\n",
              "      <td>-0.001480</td>\n",
              "      <td>-0.001418</td>\n",
              "      <td>-0.002345</td>\n",
              "      <td>-0.003169</td>\n",
              "      <td>-0.003807</td>\n",
              "      <td>-0.001020</td>\n",
              "      <td>-0.001472</td>\n",
              "      <td>-0.001037</td>\n",
              "      <td>-0.001342</td>\n",
              "      <td>-0.001392</td>\n",
              "      <td>-0.000998</td>\n",
              "      <td>-0.000447</td>\n",
              "      <td>0.000603</td>\n",
              "      <td>0.002009</td>\n",
              "      <td>0.002546</td>\n",
              "      <td>0.001437</td>\n",
              "      <td>0.000345</td>\n",
              "      <td>0.001521</td>\n",
              "      <td>0.001565</td>\n",
              "      <td>-0.000879</td>\n",
              "      <td>-0.001247</td>\n",
              "      <td>-0.000863</td>\n",
              "      <td>-0.000260</td>\n",
              "      <td>...</td>\n",
              "      <td>-0.000869</td>\n",
              "      <td>-0.001731</td>\n",
              "      <td>-0.007056</td>\n",
              "      <td>-0.005274</td>\n",
              "      <td>0.002299</td>\n",
              "      <td>0.000302</td>\n",
              "      <td>0.000564</td>\n",
              "      <td>0.001159</td>\n",
              "      <td>0.001085</td>\n",
              "      <td>-0.000164</td>\n",
              "      <td>-0.000860</td>\n",
              "      <td>-0.001315</td>\n",
              "      <td>-0.001126</td>\n",
              "      <td>-0.000283</td>\n",
              "      <td>-0.004649</td>\n",
              "      <td>-0.001943</td>\n",
              "      <td>0.002230</td>\n",
              "      <td>0.000457</td>\n",
              "      <td>-0.000601</td>\n",
              "      <td>-0.001497</td>\n",
              "      <td>-0.003075</td>\n",
              "      <td>-0.003414</td>\n",
              "      <td>-0.003866</td>\n",
              "      <td>-0.003231</td>\n",
              "      <td>-0.002454</td>\n",
              "      <td>-0.003422</td>\n",
              "      <td>-0.004808</td>\n",
              "      <td>-0.003604</td>\n",
              "      <td>0.002673</td>\n",
              "      <td>0.001687</td>\n",
              "      <td>-0.000628</td>\n",
              "      <td>-0.001082</td>\n",
              "      <td>-0.001424</td>\n",
              "      <td>-0.001485</td>\n",
              "      <td>-0.001408</td>\n",
              "      <td>-0.001622</td>\n",
              "      <td>-0.002844</td>\n",
              "      <td>-0.004729</td>\n",
              "      <td>-0.004328</td>\n",
              "      <td>-0.003255</td>\n",
              "    </tr>\n",
              "    <tr>\n",
              "      <th>1</th>\n",
              "      <td>-0.000460</td>\n",
              "      <td>0.000889</td>\n",
              "      <td>0.002478</td>\n",
              "      <td>0.001624</td>\n",
              "      <td>-0.000030</td>\n",
              "      <td>-0.001830</td>\n",
              "      <td>-0.003303</td>\n",
              "      <td>-0.002979</td>\n",
              "      <td>-0.001466</td>\n",
              "      <td>-0.000389</td>\n",
              "      <td>-0.000910</td>\n",
              "      <td>0.000248</td>\n",
              "      <td>-0.000072</td>\n",
              "      <td>0.001541</td>\n",
              "      <td>0.002165</td>\n",
              "      <td>0.001366</td>\n",
              "      <td>0.001680</td>\n",
              "      <td>0.002076</td>\n",
              "      <td>0.001231</td>\n",
              "      <td>-0.001442</td>\n",
              "      <td>-0.003898</td>\n",
              "      <td>-0.003503</td>\n",
              "      <td>-0.002438</td>\n",
              "      <td>-0.002620</td>\n",
              "      <td>-0.000701</td>\n",
              "      <td>0.001962</td>\n",
              "      <td>0.001905</td>\n",
              "      <td>0.002113</td>\n",
              "      <td>0.003730</td>\n",
              "      <td>0.005289</td>\n",
              "      <td>0.005894</td>\n",
              "      <td>0.004893</td>\n",
              "      <td>-0.000184</td>\n",
              "      <td>-0.005089</td>\n",
              "      <td>-0.005017</td>\n",
              "      <td>-0.004275</td>\n",
              "      <td>-0.001618</td>\n",
              "      <td>-0.001078</td>\n",
              "      <td>-0.000738</td>\n",
              "      <td>0.001508</td>\n",
              "      <td>...</td>\n",
              "      <td>-0.003538</td>\n",
              "      <td>-0.000999</td>\n",
              "      <td>0.002055</td>\n",
              "      <td>-0.000013</td>\n",
              "      <td>0.002729</td>\n",
              "      <td>0.003406</td>\n",
              "      <td>0.002850</td>\n",
              "      <td>0.001385</td>\n",
              "      <td>-0.000804</td>\n",
              "      <td>-0.001538</td>\n",
              "      <td>-0.002929</td>\n",
              "      <td>-0.005181</td>\n",
              "      <td>-0.005826</td>\n",
              "      <td>-0.005557</td>\n",
              "      <td>-0.001971</td>\n",
              "      <td>-0.003550</td>\n",
              "      <td>0.003240</td>\n",
              "      <td>0.001619</td>\n",
              "      <td>0.000851</td>\n",
              "      <td>0.000413</td>\n",
              "      <td>-0.000872</td>\n",
              "      <td>-0.002512</td>\n",
              "      <td>-0.002990</td>\n",
              "      <td>-0.002623</td>\n",
              "      <td>-0.003368</td>\n",
              "      <td>-0.002859</td>\n",
              "      <td>0.000130</td>\n",
              "      <td>-0.000479</td>\n",
              "      <td>-0.000147</td>\n",
              "      <td>-0.000801</td>\n",
              "      <td>-0.001028</td>\n",
              "      <td>-0.001461</td>\n",
              "      <td>-0.002455</td>\n",
              "      <td>-0.003137</td>\n",
              "      <td>-0.004343</td>\n",
              "      <td>-0.005403</td>\n",
              "      <td>-0.005581</td>\n",
              "      <td>-0.003562</td>\n",
              "      <td>-0.002113</td>\n",
              "      <td>-0.001925</td>\n",
              "    </tr>\n",
              "    <tr>\n",
              "      <th>2</th>\n",
              "      <td>0.004848</td>\n",
              "      <td>0.002452</td>\n",
              "      <td>0.000753</td>\n",
              "      <td>0.000110</td>\n",
              "      <td>0.000012</td>\n",
              "      <td>0.000455</td>\n",
              "      <td>0.001087</td>\n",
              "      <td>0.002945</td>\n",
              "      <td>0.005134</td>\n",
              "      <td>0.001741</td>\n",
              "      <td>-0.002717</td>\n",
              "      <td>-0.001637</td>\n",
              "      <td>0.004330</td>\n",
              "      <td>0.004239</td>\n",
              "      <td>0.003507</td>\n",
              "      <td>0.002980</td>\n",
              "      <td>0.002963</td>\n",
              "      <td>0.002834</td>\n",
              "      <td>0.002928</td>\n",
              "      <td>0.003006</td>\n",
              "      <td>0.003142</td>\n",
              "      <td>-0.000325</td>\n",
              "      <td>-0.003009</td>\n",
              "      <td>-0.008141</td>\n",
              "      <td>0.002821</td>\n",
              "      <td>0.001348</td>\n",
              "      <td>0.001389</td>\n",
              "      <td>0.001603</td>\n",
              "      <td>0.000853</td>\n",
              "      <td>0.000733</td>\n",
              "      <td>0.000900</td>\n",
              "      <td>0.000981</td>\n",
              "      <td>0.000649</td>\n",
              "      <td>-0.002716</td>\n",
              "      <td>-0.001673</td>\n",
              "      <td>-0.007183</td>\n",
              "      <td>0.000166</td>\n",
              "      <td>-0.000226</td>\n",
              "      <td>0.001173</td>\n",
              "      <td>0.001122</td>\n",
              "      <td>...</td>\n",
              "      <td>-0.001356</td>\n",
              "      <td>-0.000420</td>\n",
              "      <td>-0.005545</td>\n",
              "      <td>-0.007079</td>\n",
              "      <td>0.001264</td>\n",
              "      <td>-0.000501</td>\n",
              "      <td>-0.001632</td>\n",
              "      <td>-0.000873</td>\n",
              "      <td>-0.000294</td>\n",
              "      <td>-0.002151</td>\n",
              "      <td>-0.004090</td>\n",
              "      <td>-0.004479</td>\n",
              "      <td>-0.005642</td>\n",
              "      <td>-0.005921</td>\n",
              "      <td>-0.008244</td>\n",
              "      <td>-0.008261</td>\n",
              "      <td>0.001092</td>\n",
              "      <td>0.000799</td>\n",
              "      <td>-0.000899</td>\n",
              "      <td>-0.001190</td>\n",
              "      <td>-0.001633</td>\n",
              "      <td>-0.002154</td>\n",
              "      <td>-0.002589</td>\n",
              "      <td>-0.003308</td>\n",
              "      <td>-0.005850</td>\n",
              "      <td>-0.006806</td>\n",
              "      <td>-0.008945</td>\n",
              "      <td>-0.009843</td>\n",
              "      <td>0.000635</td>\n",
              "      <td>-0.000235</td>\n",
              "      <td>-0.001886</td>\n",
              "      <td>-0.002675</td>\n",
              "      <td>-0.003198</td>\n",
              "      <td>-0.003149</td>\n",
              "      <td>-0.002766</td>\n",
              "      <td>-0.003578</td>\n",
              "      <td>-0.005473</td>\n",
              "      <td>-0.005812</td>\n",
              "      <td>-0.007073</td>\n",
              "      <td>-0.007380</td>\n",
              "    </tr>\n",
              "    <tr>\n",
              "      <th>3</th>\n",
              "      <td>-0.000223</td>\n",
              "      <td>-0.003047</td>\n",
              "      <td>-0.004122</td>\n",
              "      <td>-0.004520</td>\n",
              "      <td>-0.004574</td>\n",
              "      <td>-0.003195</td>\n",
              "      <td>-0.000865</td>\n",
              "      <td>0.000763</td>\n",
              "      <td>0.001608</td>\n",
              "      <td>-0.000929</td>\n",
              "      <td>-0.003165</td>\n",
              "      <td>-0.002873</td>\n",
              "      <td>-0.001469</td>\n",
              "      <td>-0.002471</td>\n",
              "      <td>-0.002231</td>\n",
              "      <td>-0.002161</td>\n",
              "      <td>-0.002143</td>\n",
              "      <td>-0.002371</td>\n",
              "      <td>-0.002194</td>\n",
              "      <td>-0.001490</td>\n",
              "      <td>-0.000213</td>\n",
              "      <td>-0.001638</td>\n",
              "      <td>-0.003274</td>\n",
              "      <td>-0.004597</td>\n",
              "      <td>-0.001550</td>\n",
              "      <td>-0.001975</td>\n",
              "      <td>-0.001617</td>\n",
              "      <td>-0.000978</td>\n",
              "      <td>-0.000218</td>\n",
              "      <td>-0.000032</td>\n",
              "      <td>-0.000046</td>\n",
              "      <td>-0.000794</td>\n",
              "      <td>-0.001315</td>\n",
              "      <td>-0.002298</td>\n",
              "      <td>-0.002832</td>\n",
              "      <td>-0.004602</td>\n",
              "      <td>0.000620</td>\n",
              "      <td>0.002042</td>\n",
              "      <td>0.001902</td>\n",
              "      <td>0.001645</td>\n",
              "      <td>...</td>\n",
              "      <td>-0.002953</td>\n",
              "      <td>-0.002081</td>\n",
              "      <td>-0.003953</td>\n",
              "      <td>-0.004496</td>\n",
              "      <td>-0.001828</td>\n",
              "      <td>-0.003539</td>\n",
              "      <td>-0.005030</td>\n",
              "      <td>-0.004482</td>\n",
              "      <td>-0.004776</td>\n",
              "      <td>-0.003436</td>\n",
              "      <td>-0.002319</td>\n",
              "      <td>-0.002869</td>\n",
              "      <td>-0.004081</td>\n",
              "      <td>-0.004303</td>\n",
              "      <td>-0.005432</td>\n",
              "      <td>-0.004941</td>\n",
              "      <td>-0.001269</td>\n",
              "      <td>-0.001462</td>\n",
              "      <td>-0.002092</td>\n",
              "      <td>-0.002536</td>\n",
              "      <td>-0.002025</td>\n",
              "      <td>-0.003542</td>\n",
              "      <td>-0.004169</td>\n",
              "      <td>-0.005046</td>\n",
              "      <td>-0.005518</td>\n",
              "      <td>-0.005752</td>\n",
              "      <td>-0.005478</td>\n",
              "      <td>-0.005104</td>\n",
              "      <td>-0.003726</td>\n",
              "      <td>-0.004223</td>\n",
              "      <td>-0.003224</td>\n",
              "      <td>-0.002984</td>\n",
              "      <td>-0.004160</td>\n",
              "      <td>-0.005235</td>\n",
              "      <td>-0.005107</td>\n",
              "      <td>-0.005197</td>\n",
              "      <td>-0.004756</td>\n",
              "      <td>-0.004002</td>\n",
              "      <td>-0.004405</td>\n",
              "      <td>-0.004687</td>\n",
              "    </tr>\n",
              "    <tr>\n",
              "      <th>4</th>\n",
              "      <td>0.001313</td>\n",
              "      <td>-0.003182</td>\n",
              "      <td>-0.001308</td>\n",
              "      <td>-0.000149</td>\n",
              "      <td>0.000512</td>\n",
              "      <td>0.001717</td>\n",
              "      <td>0.003368</td>\n",
              "      <td>0.003861</td>\n",
              "      <td>0.003603</td>\n",
              "      <td>0.002987</td>\n",
              "      <td>0.000628</td>\n",
              "      <td>0.000726</td>\n",
              "      <td>0.002683</td>\n",
              "      <td>0.000292</td>\n",
              "      <td>0.000257</td>\n",
              "      <td>-0.000067</td>\n",
              "      <td>-0.000495</td>\n",
              "      <td>-0.000220</td>\n",
              "      <td>0.001303</td>\n",
              "      <td>0.002803</td>\n",
              "      <td>0.003787</td>\n",
              "      <td>0.002797</td>\n",
              "      <td>0.000293</td>\n",
              "      <td>-0.000957</td>\n",
              "      <td>0.002045</td>\n",
              "      <td>-0.000533</td>\n",
              "      <td>-0.000074</td>\n",
              "      <td>-0.000992</td>\n",
              "      <td>-0.001820</td>\n",
              "      <td>-0.002466</td>\n",
              "      <td>-0.002050</td>\n",
              "      <td>-0.000977</td>\n",
              "      <td>0.000999</td>\n",
              "      <td>0.002045</td>\n",
              "      <td>0.001018</td>\n",
              "      <td>-0.000805</td>\n",
              "      <td>0.001832</td>\n",
              "      <td>0.000796</td>\n",
              "      <td>0.001522</td>\n",
              "      <td>0.000348</td>\n",
              "      <td>...</td>\n",
              "      <td>-0.001132</td>\n",
              "      <td>0.000407</td>\n",
              "      <td>0.000997</td>\n",
              "      <td>-0.001553</td>\n",
              "      <td>-0.004070</td>\n",
              "      <td>-0.002804</td>\n",
              "      <td>-0.000832</td>\n",
              "      <td>0.000076</td>\n",
              "      <td>-0.000220</td>\n",
              "      <td>0.000428</td>\n",
              "      <td>0.000383</td>\n",
              "      <td>0.000414</td>\n",
              "      <td>-0.000626</td>\n",
              "      <td>0.000531</td>\n",
              "      <td>-0.000139</td>\n",
              "      <td>-0.001643</td>\n",
              "      <td>-0.000572</td>\n",
              "      <td>0.001669</td>\n",
              "      <td>0.001951</td>\n",
              "      <td>0.001864</td>\n",
              "      <td>0.000774</td>\n",
              "      <td>0.002119</td>\n",
              "      <td>0.001934</td>\n",
              "      <td>0.000433</td>\n",
              "      <td>-0.001526</td>\n",
              "      <td>-0.000543</td>\n",
              "      <td>-0.000267</td>\n",
              "      <td>-0.001223</td>\n",
              "      <td>0.000716</td>\n",
              "      <td>0.000591</td>\n",
              "      <td>-0.000144</td>\n",
              "      <td>0.001921</td>\n",
              "      <td>0.002281</td>\n",
              "      <td>0.001552</td>\n",
              "      <td>0.000962</td>\n",
              "      <td>-0.000543</td>\n",
              "      <td>-0.001724</td>\n",
              "      <td>-0.000188</td>\n",
              "      <td>-0.000113</td>\n",
              "      <td>-0.000792</td>\n",
              "    </tr>\n",
              "    <tr>\n",
              "      <th>...</th>\n",
              "      <td>...</td>\n",
              "      <td>...</td>\n",
              "      <td>...</td>\n",
              "      <td>...</td>\n",
              "      <td>...</td>\n",
              "      <td>...</td>\n",
              "      <td>...</td>\n",
              "      <td>...</td>\n",
              "      <td>...</td>\n",
              "      <td>...</td>\n",
              "      <td>...</td>\n",
              "      <td>...</td>\n",
              "      <td>...</td>\n",
              "      <td>...</td>\n",
              "      <td>...</td>\n",
              "      <td>...</td>\n",
              "      <td>...</td>\n",
              "      <td>...</td>\n",
              "      <td>...</td>\n",
              "      <td>...</td>\n",
              "      <td>...</td>\n",
              "      <td>...</td>\n",
              "      <td>...</td>\n",
              "      <td>...</td>\n",
              "      <td>...</td>\n",
              "      <td>...</td>\n",
              "      <td>...</td>\n",
              "      <td>...</td>\n",
              "      <td>...</td>\n",
              "      <td>...</td>\n",
              "      <td>...</td>\n",
              "      <td>...</td>\n",
              "      <td>...</td>\n",
              "      <td>...</td>\n",
              "      <td>...</td>\n",
              "      <td>...</td>\n",
              "      <td>...</td>\n",
              "      <td>...</td>\n",
              "      <td>...</td>\n",
              "      <td>...</td>\n",
              "      <td>...</td>\n",
              "      <td>...</td>\n",
              "      <td>...</td>\n",
              "      <td>...</td>\n",
              "      <td>...</td>\n",
              "      <td>...</td>\n",
              "      <td>...</td>\n",
              "      <td>...</td>\n",
              "      <td>...</td>\n",
              "      <td>...</td>\n",
              "      <td>...</td>\n",
              "      <td>...</td>\n",
              "      <td>...</td>\n",
              "      <td>...</td>\n",
              "      <td>...</td>\n",
              "      <td>...</td>\n",
              "      <td>...</td>\n",
              "      <td>...</td>\n",
              "      <td>...</td>\n",
              "      <td>...</td>\n",
              "      <td>...</td>\n",
              "      <td>...</td>\n",
              "      <td>...</td>\n",
              "      <td>...</td>\n",
              "      <td>...</td>\n",
              "      <td>...</td>\n",
              "      <td>...</td>\n",
              "      <td>...</td>\n",
              "      <td>...</td>\n",
              "      <td>...</td>\n",
              "      <td>...</td>\n",
              "      <td>...</td>\n",
              "      <td>...</td>\n",
              "      <td>...</td>\n",
              "      <td>...</td>\n",
              "      <td>...</td>\n",
              "      <td>...</td>\n",
              "      <td>...</td>\n",
              "      <td>...</td>\n",
              "      <td>...</td>\n",
              "      <td>...</td>\n",
              "    </tr>\n",
              "    <tr>\n",
              "      <th>95</th>\n",
              "      <td>0.000361</td>\n",
              "      <td>0.000922</td>\n",
              "      <td>-0.003175</td>\n",
              "      <td>-0.001774</td>\n",
              "      <td>-0.001972</td>\n",
              "      <td>0.001286</td>\n",
              "      <td>0.002408</td>\n",
              "      <td>0.005215</td>\n",
              "      <td>0.008136</td>\n",
              "      <td>0.006759</td>\n",
              "      <td>0.004857</td>\n",
              "      <td>0.002280</td>\n",
              "      <td>-0.000546</td>\n",
              "      <td>0.002842</td>\n",
              "      <td>0.001718</td>\n",
              "      <td>0.000578</td>\n",
              "      <td>-0.001029</td>\n",
              "      <td>0.000603</td>\n",
              "      <td>0.001602</td>\n",
              "      <td>0.004234</td>\n",
              "      <td>0.006694</td>\n",
              "      <td>0.005980</td>\n",
              "      <td>0.004324</td>\n",
              "      <td>0.000775</td>\n",
              "      <td>0.003182</td>\n",
              "      <td>0.004144</td>\n",
              "      <td>0.004530</td>\n",
              "      <td>0.002240</td>\n",
              "      <td>-0.000371</td>\n",
              "      <td>-0.002068</td>\n",
              "      <td>-0.001141</td>\n",
              "      <td>0.001123</td>\n",
              "      <td>0.004683</td>\n",
              "      <td>0.003858</td>\n",
              "      <td>0.003331</td>\n",
              "      <td>0.001333</td>\n",
              "      <td>0.003749</td>\n",
              "      <td>0.003606</td>\n",
              "      <td>0.003233</td>\n",
              "      <td>0.002044</td>\n",
              "      <td>...</td>\n",
              "      <td>-0.004677</td>\n",
              "      <td>-0.003288</td>\n",
              "      <td>-0.001925</td>\n",
              "      <td>-0.000068</td>\n",
              "      <td>-0.002897</td>\n",
              "      <td>0.000657</td>\n",
              "      <td>0.001526</td>\n",
              "      <td>0.002778</td>\n",
              "      <td>-0.000685</td>\n",
              "      <td>-0.000037</td>\n",
              "      <td>-0.002940</td>\n",
              "      <td>-0.000465</td>\n",
              "      <td>0.000379</td>\n",
              "      <td>0.002780</td>\n",
              "      <td>0.002135</td>\n",
              "      <td>0.002038</td>\n",
              "      <td>-0.001511</td>\n",
              "      <td>-0.003240</td>\n",
              "      <td>-0.004582</td>\n",
              "      <td>-0.001197</td>\n",
              "      <td>0.001926</td>\n",
              "      <td>0.002677</td>\n",
              "      <td>-0.002189</td>\n",
              "      <td>-0.001215</td>\n",
              "      <td>-0.000409</td>\n",
              "      <td>0.001263</td>\n",
              "      <td>0.000751</td>\n",
              "      <td>0.000076</td>\n",
              "      <td>-0.001540</td>\n",
              "      <td>-0.003975</td>\n",
              "      <td>0.001112</td>\n",
              "      <td>0.002009</td>\n",
              "      <td>-0.001341</td>\n",
              "      <td>-0.002210</td>\n",
              "      <td>-0.003251</td>\n",
              "      <td>-0.002923</td>\n",
              "      <td>-0.000462</td>\n",
              "      <td>-0.000873</td>\n",
              "      <td>-0.001842</td>\n",
              "      <td>-0.000637</td>\n",
              "    </tr>\n",
              "    <tr>\n",
              "      <th>96</th>\n",
              "      <td>-0.001246</td>\n",
              "      <td>-0.004054</td>\n",
              "      <td>-0.007869</td>\n",
              "      <td>-0.004968</td>\n",
              "      <td>0.001399</td>\n",
              "      <td>0.003219</td>\n",
              "      <td>0.001705</td>\n",
              "      <td>0.000916</td>\n",
              "      <td>0.002536</td>\n",
              "      <td>0.000560</td>\n",
              "      <td>0.000627</td>\n",
              "      <td>0.002107</td>\n",
              "      <td>-0.002745</td>\n",
              "      <td>-0.007563</td>\n",
              "      <td>-0.008269</td>\n",
              "      <td>-0.005298</td>\n",
              "      <td>-0.000076</td>\n",
              "      <td>0.000082</td>\n",
              "      <td>0.002357</td>\n",
              "      <td>0.004286</td>\n",
              "      <td>0.004607</td>\n",
              "      <td>0.001848</td>\n",
              "      <td>-0.002021</td>\n",
              "      <td>-0.002418</td>\n",
              "      <td>-0.004392</td>\n",
              "      <td>-0.006634</td>\n",
              "      <td>-0.005585</td>\n",
              "      <td>-0.002488</td>\n",
              "      <td>-0.000641</td>\n",
              "      <td>-0.001939</td>\n",
              "      <td>-0.001584</td>\n",
              "      <td>0.000235</td>\n",
              "      <td>0.004216</td>\n",
              "      <td>0.002006</td>\n",
              "      <td>-0.002862</td>\n",
              "      <td>-0.002779</td>\n",
              "      <td>-0.005797</td>\n",
              "      <td>-0.005791</td>\n",
              "      <td>-0.003924</td>\n",
              "      <td>-0.000793</td>\n",
              "      <td>...</td>\n",
              "      <td>0.002411</td>\n",
              "      <td>-0.001089</td>\n",
              "      <td>-0.003681</td>\n",
              "      <td>-0.001992</td>\n",
              "      <td>-0.002155</td>\n",
              "      <td>-0.000194</td>\n",
              "      <td>0.000840</td>\n",
              "      <td>0.003843</td>\n",
              "      <td>0.002750</td>\n",
              "      <td>0.001493</td>\n",
              "      <td>0.003452</td>\n",
              "      <td>0.005122</td>\n",
              "      <td>-0.001421</td>\n",
              "      <td>-0.001080</td>\n",
              "      <td>-0.001086</td>\n",
              "      <td>-0.001001</td>\n",
              "      <td>-0.004594</td>\n",
              "      <td>-0.001539</td>\n",
              "      <td>0.000856</td>\n",
              "      <td>0.003288</td>\n",
              "      <td>0.001894</td>\n",
              "      <td>0.001638</td>\n",
              "      <td>0.002224</td>\n",
              "      <td>0.000522</td>\n",
              "      <td>-0.003582</td>\n",
              "      <td>-0.002994</td>\n",
              "      <td>-0.000564</td>\n",
              "      <td>-0.000407</td>\n",
              "      <td>-0.003378</td>\n",
              "      <td>-0.003329</td>\n",
              "      <td>-0.001543</td>\n",
              "      <td>-0.000585</td>\n",
              "      <td>-0.000948</td>\n",
              "      <td>-0.002458</td>\n",
              "      <td>-0.001963</td>\n",
              "      <td>-0.001604</td>\n",
              "      <td>-0.002332</td>\n",
              "      <td>-0.001195</td>\n",
              "      <td>0.000510</td>\n",
              "      <td>-0.000818</td>\n",
              "    </tr>\n",
              "    <tr>\n",
              "      <th>97</th>\n",
              "      <td>-0.004958</td>\n",
              "      <td>-0.000608</td>\n",
              "      <td>0.003515</td>\n",
              "      <td>0.000302</td>\n",
              "      <td>-0.002891</td>\n",
              "      <td>-0.000150</td>\n",
              "      <td>0.002378</td>\n",
              "      <td>0.000708</td>\n",
              "      <td>-0.000912</td>\n",
              "      <td>0.000386</td>\n",
              "      <td>0.002033</td>\n",
              "      <td>0.001430</td>\n",
              "      <td>-0.003867</td>\n",
              "      <td>-0.001264</td>\n",
              "      <td>0.003641</td>\n",
              "      <td>0.002250</td>\n",
              "      <td>0.000232</td>\n",
              "      <td>0.001424</td>\n",
              "      <td>0.001175</td>\n",
              "      <td>0.000952</td>\n",
              "      <td>0.000338</td>\n",
              "      <td>0.000086</td>\n",
              "      <td>0.000797</td>\n",
              "      <td>0.000510</td>\n",
              "      <td>-0.007154</td>\n",
              "      <td>-0.001065</td>\n",
              "      <td>0.004722</td>\n",
              "      <td>0.002431</td>\n",
              "      <td>0.000610</td>\n",
              "      <td>-0.000257</td>\n",
              "      <td>0.000210</td>\n",
              "      <td>0.000076</td>\n",
              "      <td>0.001503</td>\n",
              "      <td>0.001166</td>\n",
              "      <td>0.000072</td>\n",
              "      <td>-0.000060</td>\n",
              "      <td>-0.007077</td>\n",
              "      <td>-0.002286</td>\n",
              "      <td>-0.000379</td>\n",
              "      <td>-0.002824</td>\n",
              "      <td>...</td>\n",
              "      <td>-0.002470</td>\n",
              "      <td>0.002357</td>\n",
              "      <td>0.000287</td>\n",
              "      <td>-0.000238</td>\n",
              "      <td>0.004514</td>\n",
              "      <td>0.004717</td>\n",
              "      <td>0.002602</td>\n",
              "      <td>0.002021</td>\n",
              "      <td>0.003523</td>\n",
              "      <td>0.003970</td>\n",
              "      <td>-0.000716</td>\n",
              "      <td>-0.004904</td>\n",
              "      <td>-0.004330</td>\n",
              "      <td>-0.000722</td>\n",
              "      <td>-0.001036</td>\n",
              "      <td>-0.000718</td>\n",
              "      <td>0.001815</td>\n",
              "      <td>0.002190</td>\n",
              "      <td>0.002208</td>\n",
              "      <td>0.001243</td>\n",
              "      <td>0.002736</td>\n",
              "      <td>-0.000375</td>\n",
              "      <td>-0.002933</td>\n",
              "      <td>-0.003579</td>\n",
              "      <td>-0.002770</td>\n",
              "      <td>-0.001571</td>\n",
              "      <td>-0.001502</td>\n",
              "      <td>-0.001152</td>\n",
              "      <td>-0.001819</td>\n",
              "      <td>-0.003853</td>\n",
              "      <td>-0.002508</td>\n",
              "      <td>-0.002950</td>\n",
              "      <td>-0.003345</td>\n",
              "      <td>-0.004638</td>\n",
              "      <td>-0.003792</td>\n",
              "      <td>-0.001816</td>\n",
              "      <td>0.000816</td>\n",
              "      <td>0.000149</td>\n",
              "      <td>-0.000215</td>\n",
              "      <td>0.000026</td>\n",
              "    </tr>\n",
              "    <tr>\n",
              "      <th>98</th>\n",
              "      <td>0.004625</td>\n",
              "      <td>0.002219</td>\n",
              "      <td>0.002996</td>\n",
              "      <td>0.002180</td>\n",
              "      <td>0.001797</td>\n",
              "      <td>0.002395</td>\n",
              "      <td>0.002627</td>\n",
              "      <td>0.000042</td>\n",
              "      <td>-0.002800</td>\n",
              "      <td>-0.006914</td>\n",
              "      <td>-0.005607</td>\n",
              "      <td>-0.000386</td>\n",
              "      <td>0.002403</td>\n",
              "      <td>0.002117</td>\n",
              "      <td>0.001903</td>\n",
              "      <td>0.004530</td>\n",
              "      <td>0.004319</td>\n",
              "      <td>0.001286</td>\n",
              "      <td>0.001417</td>\n",
              "      <td>0.001470</td>\n",
              "      <td>0.000212</td>\n",
              "      <td>-0.001935</td>\n",
              "      <td>0.000277</td>\n",
              "      <td>0.001641</td>\n",
              "      <td>-0.000342</td>\n",
              "      <td>0.003276</td>\n",
              "      <td>0.004130</td>\n",
              "      <td>0.006311</td>\n",
              "      <td>0.003334</td>\n",
              "      <td>0.000981</td>\n",
              "      <td>0.000475</td>\n",
              "      <td>0.001381</td>\n",
              "      <td>0.000432</td>\n",
              "      <td>-0.000991</td>\n",
              "      <td>0.000134</td>\n",
              "      <td>0.000127</td>\n",
              "      <td>0.001412</td>\n",
              "      <td>0.005162</td>\n",
              "      <td>0.005974</td>\n",
              "      <td>0.003244</td>\n",
              "      <td>...</td>\n",
              "      <td>-0.001236</td>\n",
              "      <td>-0.001157</td>\n",
              "      <td>0.000122</td>\n",
              "      <td>-0.000957</td>\n",
              "      <td>-0.004226</td>\n",
              "      <td>-0.002339</td>\n",
              "      <td>0.001194</td>\n",
              "      <td>0.002527</td>\n",
              "      <td>-0.000065</td>\n",
              "      <td>-0.000070</td>\n",
              "      <td>-0.000742</td>\n",
              "      <td>-0.002228</td>\n",
              "      <td>-0.000830</td>\n",
              "      <td>-0.002921</td>\n",
              "      <td>-0.001394</td>\n",
              "      <td>-0.001171</td>\n",
              "      <td>0.000186</td>\n",
              "      <td>0.001708</td>\n",
              "      <td>0.001665</td>\n",
              "      <td>0.001991</td>\n",
              "      <td>0.002736</td>\n",
              "      <td>0.003710</td>\n",
              "      <td>0.002305</td>\n",
              "      <td>0.002000</td>\n",
              "      <td>0.002375</td>\n",
              "      <td>0.001657</td>\n",
              "      <td>0.000166</td>\n",
              "      <td>-0.000325</td>\n",
              "      <td>-0.003079</td>\n",
              "      <td>-0.003280</td>\n",
              "      <td>0.002240</td>\n",
              "      <td>0.002960</td>\n",
              "      <td>0.001193</td>\n",
              "      <td>0.003550</td>\n",
              "      <td>0.002213</td>\n",
              "      <td>0.001172</td>\n",
              "      <td>0.000845</td>\n",
              "      <td>0.001525</td>\n",
              "      <td>0.000954</td>\n",
              "      <td>-0.000542</td>\n",
              "    </tr>\n",
              "    <tr>\n",
              "      <th>99</th>\n",
              "      <td>0.001241</td>\n",
              "      <td>0.000688</td>\n",
              "      <td>0.000079</td>\n",
              "      <td>-0.000613</td>\n",
              "      <td>0.003869</td>\n",
              "      <td>0.003158</td>\n",
              "      <td>0.001350</td>\n",
              "      <td>0.000270</td>\n",
              "      <td>0.001380</td>\n",
              "      <td>0.003065</td>\n",
              "      <td>0.002259</td>\n",
              "      <td>0.001675</td>\n",
              "      <td>-0.000325</td>\n",
              "      <td>0.000444</td>\n",
              "      <td>-0.001149</td>\n",
              "      <td>-0.002909</td>\n",
              "      <td>-0.000782</td>\n",
              "      <td>0.001282</td>\n",
              "      <td>0.002777</td>\n",
              "      <td>-0.000385</td>\n",
              "      <td>-0.000287</td>\n",
              "      <td>0.000858</td>\n",
              "      <td>0.001759</td>\n",
              "      <td>0.001009</td>\n",
              "      <td>0.000053</td>\n",
              "      <td>0.000503</td>\n",
              "      <td>0.002156</td>\n",
              "      <td>0.000017</td>\n",
              "      <td>0.000137</td>\n",
              "      <td>-0.000394</td>\n",
              "      <td>-0.000362</td>\n",
              "      <td>-0.000669</td>\n",
              "      <td>-0.001845</td>\n",
              "      <td>0.000517</td>\n",
              "      <td>0.003918</td>\n",
              "      <td>0.003131</td>\n",
              "      <td>-0.001782</td>\n",
              "      <td>-0.000198</td>\n",
              "      <td>0.003791</td>\n",
              "      <td>0.001661</td>\n",
              "      <td>...</td>\n",
              "      <td>-0.000107</td>\n",
              "      <td>-0.004287</td>\n",
              "      <td>-0.002577</td>\n",
              "      <td>-0.000937</td>\n",
              "      <td>-0.001457</td>\n",
              "      <td>0.002612</td>\n",
              "      <td>0.003735</td>\n",
              "      <td>0.003672</td>\n",
              "      <td>0.000945</td>\n",
              "      <td>-0.000026</td>\n",
              "      <td>0.001913</td>\n",
              "      <td>0.000157</td>\n",
              "      <td>-0.000615</td>\n",
              "      <td>-0.002397</td>\n",
              "      <td>-0.001449</td>\n",
              "      <td>-0.002271</td>\n",
              "      <td>-0.003034</td>\n",
              "      <td>-0.007262</td>\n",
              "      <td>-0.006377</td>\n",
              "      <td>-0.004448</td>\n",
              "      <td>0.000880</td>\n",
              "      <td>0.001488</td>\n",
              "      <td>0.000146</td>\n",
              "      <td>-0.001803</td>\n",
              "      <td>-0.002214</td>\n",
              "      <td>-0.002444</td>\n",
              "      <td>-0.002387</td>\n",
              "      <td>-0.001276</td>\n",
              "      <td>-0.000024</td>\n",
              "      <td>-0.002065</td>\n",
              "      <td>-0.002419</td>\n",
              "      <td>0.000216</td>\n",
              "      <td>0.001988</td>\n",
              "      <td>-0.000184</td>\n",
              "      <td>-0.000496</td>\n",
              "      <td>-0.001091</td>\n",
              "      <td>-0.001888</td>\n",
              "      <td>0.000327</td>\n",
              "      <td>0.002043</td>\n",
              "      <td>0.003485</td>\n",
              "    </tr>\n",
              "  </tbody>\n",
              "</table>\n",
              "<p>100 rows × 138240 columns</p>\n",
              "</div>"
            ],
            "text/plain": [
              "      0         1         2       ...    138237    138238    138239\n",
              "0   0.000270  0.001648 -0.000178  ... -0.004729 -0.004328 -0.003255\n",
              "1  -0.000460  0.000889  0.002478  ... -0.003562 -0.002113 -0.001925\n",
              "2   0.004848  0.002452  0.000753  ... -0.005812 -0.007073 -0.007380\n",
              "3  -0.000223 -0.003047 -0.004122  ... -0.004002 -0.004405 -0.004687\n",
              "4   0.001313 -0.003182 -0.001308  ... -0.000188 -0.000113 -0.000792\n",
              "..       ...       ...       ...  ...       ...       ...       ...\n",
              "95  0.000361  0.000922 -0.003175  ... -0.000873 -0.001842 -0.000637\n",
              "96 -0.001246 -0.004054 -0.007869  ... -0.001195  0.000510 -0.000818\n",
              "97 -0.004958 -0.000608  0.003515  ...  0.000149 -0.000215  0.000026\n",
              "98  0.004625  0.002219  0.002996  ...  0.001525  0.000954 -0.000542\n",
              "99  0.001241  0.000688  0.000079  ...  0.000327  0.002043  0.003485\n",
              "\n",
              "[100 rows x 138240 columns]"
            ]
          },
          "metadata": {},
          "execution_count": 37
        }
      ]
    },
    {
      "cell_type": "code",
      "source": [
        "n_pcs"
      ],
      "metadata": {
        "colab": {
          "base_uri": "https://localhost:8080/"
        },
        "id": "F0QmgcdJbMn5",
        "outputId": "945a936d-3f82-44d0-dc96-74eca59887d5"
      },
      "execution_count": null,
      "outputs": [
        {
          "output_type": "execute_result",
          "data": {
            "text/plain": [
              "100"
            ]
          },
          "metadata": {},
          "execution_count": 46
        }
      ]
    },
    {
      "cell_type": "code",
      "source": [
        "model.components_[3].sum()"
      ],
      "metadata": {
        "colab": {
          "base_uri": "https://localhost:8080/"
        },
        "id": "6AxCMM0abh0B",
        "outputId": "5f362533-ff58-4252-f3c5-8e99f86a4f0a"
      },
      "execution_count": null,
      "outputs": [
        {
          "output_type": "execute_result",
          "data": {
            "text/plain": [
              "16.609096254468064"
            ]
          },
          "metadata": {},
          "execution_count": 51
        }
      ]
    },
    {
      "cell_type": "code",
      "source": [
        "model.components_[3].argmax()"
      ],
      "metadata": {
        "colab": {
          "base_uri": "https://localhost:8080/"
        },
        "id": "u8e--txFbd34",
        "outputId": "75b2e64d-069b-46fb-a5c5-b5cbceab6f0b"
      },
      "execution_count": null,
      "outputs": [
        {
          "output_type": "execute_result",
          "data": {
            "text/plain": [
              "132762"
            ]
          },
          "metadata": {},
          "execution_count": 49
        }
      ]
    },
    {
      "cell_type": "code",
      "source": [
        "X_pc = model.transform(train_df)\n",
        "\n",
        "# number of components\n",
        "n_pcs= model.components_.shape[0]\n",
        "\n",
        "# get the index of the most important feature on EACH component\n",
        "most_important = [np.abs(model.components_[i]).argmax() for i in range(n_pcs)]"
      ],
      "metadata": {
        "id": "RMXyiPBNVKhE"
      },
      "execution_count": null,
      "outputs": []
    },
    {
      "cell_type": "code",
      "source": [
        "len(most_important)"
      ],
      "metadata": {
        "colab": {
          "base_uri": "https://localhost:8080/"
        },
        "id": "gd_oVtpYVMdR",
        "outputId": "d432f5a5-4e19-4cee-8385-b467f8b10fa0"
      },
      "execution_count": null,
      "outputs": [
        {
          "output_type": "execute_result",
          "data": {
            "text/plain": [
              "100"
            ]
          },
          "metadata": {},
          "execution_count": 39
        }
      ]
    },
    {
      "cell_type": "code",
      "source": [
        "most_important[:15]"
      ],
      "metadata": {
        "colab": {
          "base_uri": "https://localhost:8080/"
        },
        "id": "AW4vvNroWl5I",
        "outputId": "2e7dc89e-adba-4a83-971a-4edadbea73d9"
      },
      "execution_count": null,
      "outputs": [
        {
          "output_type": "execute_result",
          "data": {
            "text/plain": [
              "[79175,\n",
              " 77073,\n",
              " 19257,\n",
              " 120294,\n",
              " 14580,\n",
              " 103500,\n",
              " 81480,\n",
              " 753,\n",
              " 130614,\n",
              " 122850,\n",
              " 43878,\n",
              " 136487,\n",
              " 20618,\n",
              " 23144,\n",
              " 135088]"
            ]
          },
          "metadata": {},
          "execution_count": 40
        }
      ]
    },
    {
      "cell_type": "code",
      "source": [
        "initial_feature_names = [str(x) for x in train_df.columns]\n",
        "\n",
        "# get the names\n",
        "most_important_names = [initial_feature_names[most_important[i]] for i in range(n_pcs)]\n",
        "\n",
        "# LIST COMPREHENSION HERE AGAIN\n",
        "dic = {'PC{}'.format(i): most_important_names[i] for i in range(n_pcs)}\n",
        "\n",
        "# build the dataframe\n",
        "df = pd.DataFrame(dic.items())"
      ],
      "metadata": {
        "id": "nx-Db19YUb0Q"
      },
      "execution_count": null,
      "outputs": []
    },
    {
      "cell_type": "code",
      "source": [
        "df"
      ],
      "metadata": {
        "colab": {
          "base_uri": "https://localhost:8080/",
          "height": 423
        },
        "id": "dARPAYlsZOfM",
        "outputId": "16f2f98a-cc13-4a9b-e74e-58c07762b15a"
      },
      "execution_count": null,
      "outputs": [
        {
          "output_type": "execute_result",
          "data": {
            "text/html": [
              "<div>\n",
              "<style scoped>\n",
              "    .dataframe tbody tr th:only-of-type {\n",
              "        vertical-align: middle;\n",
              "    }\n",
              "\n",
              "    .dataframe tbody tr th {\n",
              "        vertical-align: top;\n",
              "    }\n",
              "\n",
              "    .dataframe thead th {\n",
              "        text-align: right;\n",
              "    }\n",
              "</style>\n",
              "<table border=\"1\" class=\"dataframe\">\n",
              "  <thead>\n",
              "    <tr style=\"text-align: right;\">\n",
              "      <th></th>\n",
              "      <th>0</th>\n",
              "      <th>1</th>\n",
              "    </tr>\n",
              "  </thead>\n",
              "  <tbody>\n",
              "    <tr>\n",
              "      <th>0</th>\n",
              "      <td>PC0</td>\n",
              "      <td>79175</td>\n",
              "    </tr>\n",
              "    <tr>\n",
              "      <th>1</th>\n",
              "      <td>PC1</td>\n",
              "      <td>77073</td>\n",
              "    </tr>\n",
              "    <tr>\n",
              "      <th>2</th>\n",
              "      <td>PC2</td>\n",
              "      <td>19257</td>\n",
              "    </tr>\n",
              "    <tr>\n",
              "      <th>3</th>\n",
              "      <td>PC3</td>\n",
              "      <td>120294</td>\n",
              "    </tr>\n",
              "    <tr>\n",
              "      <th>4</th>\n",
              "      <td>PC4</td>\n",
              "      <td>14580</td>\n",
              "    </tr>\n",
              "    <tr>\n",
              "      <th>...</th>\n",
              "      <td>...</td>\n",
              "      <td>...</td>\n",
              "    </tr>\n",
              "    <tr>\n",
              "      <th>95</th>\n",
              "      <td>PC95</td>\n",
              "      <td>120693</td>\n",
              "    </tr>\n",
              "    <tr>\n",
              "      <th>96</th>\n",
              "      <td>PC96</td>\n",
              "      <td>118016</td>\n",
              "    </tr>\n",
              "    <tr>\n",
              "      <th>97</th>\n",
              "      <td>PC97</td>\n",
              "      <td>100221</td>\n",
              "    </tr>\n",
              "    <tr>\n",
              "      <th>98</th>\n",
              "      <td>PC98</td>\n",
              "      <td>29866</td>\n",
              "    </tr>\n",
              "    <tr>\n",
              "      <th>99</th>\n",
              "      <td>PC99</td>\n",
              "      <td>72613</td>\n",
              "    </tr>\n",
              "  </tbody>\n",
              "</table>\n",
              "<p>100 rows × 2 columns</p>\n",
              "</div>"
            ],
            "text/plain": [
              "       0       1\n",
              "0    PC0   79175\n",
              "1    PC1   77073\n",
              "2    PC2   19257\n",
              "3    PC3  120294\n",
              "4    PC4   14580\n",
              "..   ...     ...\n",
              "95  PC95  120693\n",
              "96  PC96  118016\n",
              "97  PC97  100221\n",
              "98  PC98   29866\n",
              "99  PC99   72613\n",
              "\n",
              "[100 rows x 2 columns]"
            ]
          },
          "metadata": {},
          "execution_count": 61
        }
      ]
    },
    {
      "cell_type": "code",
      "source": [
        "pc_short = df[0:50]\n",
        "list(pc_short[1])"
      ],
      "metadata": {
        "colab": {
          "base_uri": "https://localhost:8080/"
        },
        "id": "laCc_fuUZRVl",
        "outputId": "8b0a95f0-5614-4eda-e224-9a528090e349"
      },
      "execution_count": null,
      "outputs": [
        {
          "output_type": "execute_result",
          "data": {
            "text/plain": [
              "['79175',\n",
              " '77073',\n",
              " '19257',\n",
              " '120294',\n",
              " '14580',\n",
              " '103500',\n",
              " '81480',\n",
              " '753',\n",
              " '130614',\n",
              " '122850',\n",
              " '43878',\n",
              " '136487',\n",
              " '20618',\n",
              " '23144',\n",
              " '135088',\n",
              " '111436',\n",
              " '86784',\n",
              " '109113',\n",
              " '85389',\n",
              " '10455',\n",
              " '123153',\n",
              " '114781',\n",
              " '128144',\n",
              " '91440',\n",
              " '71455',\n",
              " '52236',\n",
              " '33164',\n",
              " '31098',\n",
              " '109702',\n",
              " '8637',\n",
              " '57685',\n",
              " '5628',\n",
              " '65872',\n",
              " '131360',\n",
              " '108801',\n",
              " '86387',\n",
              " '65313',\n",
              " '135383',\n",
              " '14736',\n",
              " '33313',\n",
              " '38074',\n",
              " '90173',\n",
              " '18411',\n",
              " '6840',\n",
              " '10350',\n",
              " '105859',\n",
              " '23535',\n",
              " '118993',\n",
              " '32469',\n",
              " '85670']"
            ]
          },
          "metadata": {},
          "execution_count": 63
        }
      ]
    },
    {
      "cell_type": "code",
      "source": [
        "pca_train = train_df[[int(x) for x in list(pc_short[1])]]\n",
        "pca_val = val_df[[int(x) for x in list(pc_short[1])]]"
      ],
      "metadata": {
        "id": "HiBd07pQZWxS"
      },
      "execution_count": null,
      "outputs": []
    },
    {
      "cell_type": "code",
      "source": [
        "train_df.shape"
      ],
      "metadata": {
        "colab": {
          "base_uri": "https://localhost:8080/"
        },
        "id": "mpzBIEocaB9M",
        "outputId": "bcc4b921-310e-4319-a492-54e2ceb7b4a5"
      },
      "execution_count": null,
      "outputs": [
        {
          "output_type": "execute_result",
          "data": {
            "text/plain": [
              "(509, 138240)"
            ]
          },
          "metadata": {},
          "execution_count": 65
        }
      ]
    },
    {
      "cell_type": "code",
      "source": [
        "pca_train.shape"
      ],
      "metadata": {
        "colab": {
          "base_uri": "https://localhost:8080/"
        },
        "id": "pL9UJJaqaZVs",
        "outputId": "8744a429-412a-407a-c32d-0e97071af9e6"
      },
      "execution_count": null,
      "outputs": [
        {
          "output_type": "execute_result",
          "data": {
            "text/plain": [
              "(509, 50)"
            ]
          },
          "metadata": {},
          "execution_count": 66
        }
      ]
    },
    {
      "cell_type": "code",
      "source": [
        "pca_val.shape"
      ],
      "metadata": {
        "colab": {
          "base_uri": "https://localhost:8080/"
        },
        "id": "ytsP0aIfaMRs",
        "outputId": "0e70792a-e383-4148-e6c0-4394bbfb12d6"
      },
      "execution_count": null,
      "outputs": [
        {
          "output_type": "execute_result",
          "data": {
            "text/plain": [
              "(57, 50)"
            ]
          },
          "metadata": {},
          "execution_count": 67
        }
      ]
    },
    {
      "cell_type": "code",
      "source": [
        "val.shape"
      ],
      "metadata": {
        "colab": {
          "base_uri": "https://localhost:8080/"
        },
        "id": "QCarVm83aDMQ",
        "outputId": "f3e91313-ec18-4185-953c-6602a9a13d7b"
      },
      "execution_count": null,
      "outputs": [
        {
          "output_type": "execute_result",
          "data": {
            "text/plain": [
              "(57, 138240)"
            ]
          },
          "metadata": {},
          "execution_count": 68
        }
      ]
    },
    {
      "cell_type": "code",
      "source": [
        "pca_train.to_csv(root_folder+'/pca_latent_train_50.csv')\n",
        "pca_val.to_csv(root_folder+'/pca_latent_val_50.csv')"
      ],
      "metadata": {
        "id": "jPQfSpbQZ9I3"
      },
      "execution_count": null,
      "outputs": []
    },
    {
      "cell_type": "code",
      "source": [
        "ls \"drive/MyDrive/Bayesian Learning Final Project/Submission/NN_model\""
      ],
      "metadata": {
        "id": "XhwVQg2lbR9s"
      },
      "execution_count": null,
      "outputs": []
    }
  ]
}